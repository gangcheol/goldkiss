{
 "cells": [
  {
   "cell_type": "raw",
   "metadata": {},
   "source": [
    "---\n",
    "title : \"00. CIFAR10\"\n",
    "author : \"CIC\"\n",
    "date : \"01/29/21\"\n",
    "categoris : [python]\n",
    "---"
   ]
  },
  {
   "cell_type": "markdown",
   "metadata": {
    "id": "HZc219MFFibh"
   },
   "source": [
    "# Convolutional Neural Network with CIFAR-10"
   ]
  },
  {
   "cell_type": "code",
   "execution_count": 1,
   "metadata": {
    "id": "SpxQtfTUUI5r",
    "tags": []
   },
   "outputs": [],
   "source": [
    "# Import libraries\n",
    "import numpy as np\n",
    "import pandas as pd\n",
    "import matplotlib.pyplot as plt\n",
    "\n",
    "import random as rd\n",
    "from sklearn.metrics import accuracy_score\n",
    "\n",
    "import tensorflow as tf\n",
    "from tensorflow import keras"
   ]
  },
  {
   "cell_type": "markdown",
   "metadata": {
    "id": "dxB_-9itUhFy"
   },
   "source": [
    "### Data Load"
   ]
  },
  {
   "cell_type": "code",
   "execution_count": 2,
   "metadata": {
    "colab": {
     "base_uri": "https://localhost:8080/"
    },
    "id": "U0_XheJ32fnX",
    "outputId": "c0259c72-2a48-42fc-82d9-1acdbac73bbc",
    "tags": []
   },
   "outputs": [
    {
     "name": "stdout",
     "output_type": "stream",
     "text": [
      "Downloading data from https://www.cs.toronto.edu/~kriz/cifar-10-python.tar.gz\n",
      "170498071/170498071 [==============================] - 36s 0us/step\n"
     ]
    }
   ],
   "source": [
    "(train_x, train_y), (test_x, test_y) = keras.datasets.cifar10.load_data()"
   ]
  },
  {
   "cell_type": "code",
   "execution_count": 3,
   "metadata": {
    "colab": {
     "base_uri": "https://localhost:8080/"
    },
    "id": "0EcfUETOUhIy",
    "outputId": "b8b22d4c-8cce-456b-dcd3-f3c468be60b6",
    "tags": []
   },
   "outputs": [
    {
     "name": "stdout",
     "output_type": "stream",
     "text": [
      "(50000, 32, 32, 3) (50000, 1) (10000, 32, 32, 3) (10000, 1)\n"
     ]
    }
   ],
   "source": [
    "print(train_x.shape, train_y.shape, test_x.shape, test_y.shape)"
   ]
  },
  {
   "cell_type": "code",
   "execution_count": 4,
   "metadata": {
    "colab": {
     "base_uri": "https://localhost:8080/"
    },
    "id": "D7-ICNlAVhIM",
    "outputId": "21dd6046-b6ea-4ae4-943f-4aea2a8114a1",
    "tags": []
   },
   "outputs": [
    {
     "name": "stdout",
     "output_type": "stream",
     "text": [
      "{0: 'Airplane', 1: 'Automobile', 2: 'Bird', 3: 'Cat', 4: 'Deer', 5: 'Dog', 6: 'Frog', 7: 'Horse', 8: 'Ship', 9: 'Truck'}\n"
     ]
    }
   ],
   "source": [
    "labels = {0 : 'Airplane',\n",
    "          1 : 'Automobile',\n",
    "          2 : 'Bird',\n",
    "          3 : 'Cat',\n",
    "          4 : 'Deer',\n",
    "          5 : 'Dog',\n",
    "          6 : 'Frog',\n",
    "          7 : 'Horse',\n",
    "          8 : 'Ship',\n",
    "          9 : 'Truck' }\n",
    "\n",
    "print(labels)"
   ]
  },
  {
   "cell_type": "code",
   "execution_count": 5,
   "metadata": {
    "colab": {
     "base_uri": "https://localhost:8080/",
     "height": 467
    },
    "id": "06UwAC3JV7uj",
    "outputId": "283da8fa-32c2-42e9-a7d7-df70ac303c7d",
    "tags": []
   },
   "outputs": [
    {
     "name": "stdout",
     "output_type": "stream",
     "text": [
      "id = 1925\n",
      "Image Name: Automobile\n"
     ]
    },
    {
     "data": {
      "image/png": "[encoded data removed]",
      "text/plain": [
       "<Figure size 640x480 with 1 Axes>"
      ]
     },
     "metadata": {},
     "output_type": "display_data"
    }
   ],
   "source": [
    "id = rd.randrange(0,10000)\n",
    "\n",
    "print(f'id = {id}')\n",
    "print(f'Image Name: {labels[test_y[id][0]]}')\n",
    "plt.imshow(test_x[id])\n",
    "plt.show()"
   ]
  },
  {
   "cell_type": "markdown",
   "metadata": {
    "id": "ghiwVWATe4I8"
   },
   "source": [
    "### X변수: Scaling (Standardization)"
   ]
  },
  {
   "cell_type": "markdown",
   "metadata": {
    "id": "-mGDOOqWzlRe"
   },
   "source": [
    "* 모든 채널에 Standardization 적용"
   ]
  },
  {
   "cell_type": "code",
   "execution_count": 6,
   "metadata": {
    "colab": {
     "base_uri": "https://localhost:8080/"
    },
    "id": "_zSgqC4Cyxto",
    "outputId": "b8ad96f7-953d-4ad1-cd0a-e9014392632b",
    "tags": []
   },
   "outputs": [
    {
     "data": {
      "text/plain": [
       "(120.70756512369792, 64.1500758911213)"
      ]
     },
     "execution_count": 6,
     "metadata": {},
     "output_type": "execute_result"
    }
   ],
   "source": [
    "mean_n, std_n = train_x.mean(), train_x.std()\n",
    "mean_n, std_n"
   ]
  },
  {
   "cell_type": "code",
   "execution_count": 7,
   "metadata": {
    "id": "-Td_KUt_tOoV",
    "tags": []
   },
   "outputs": [],
   "source": [
    "train_x = (train_x - mean_n) / std_n\n",
    "test_x = (test_x - mean_n) / std_n"
   ]
  },
  {
   "cell_type": "code",
   "execution_count": 8,
   "metadata": {
    "colab": {
     "base_uri": "https://localhost:8080/"
    },
    "id": "nM87gZhBtX5a",
    "outputId": "8d8f16d5-89f1-4588-ac67-5577aea71ea8",
    "tags": []
   },
   "outputs": [
    {
     "data": {
      "text/plain": [
       "(-2.5247951877342226e-17, 1.0000000000000022)"
      ]
     },
     "execution_count": 8,
     "metadata": {},
     "output_type": "execute_result"
    }
   ],
   "source": [
    "train_x.mean(), train_x.std()"
   ]
  },
  {
   "cell_type": "markdown",
   "metadata": {
    "id": "DO7Sl-_FzhdE"
   },
   "source": [
    "* 개별 채널에 Standardization 적용"
   ]
  },
  {
   "cell_type": "code",
   "execution_count": 9,
   "metadata": {
    "id": "WfLGSU3_EbuP",
    "tags": []
   },
   "outputs": [],
   "source": [
    "tr_r_mean, tr_r_std = train_x[:,:,:,0].mean(), train_x[:,:,:,0].std()\n",
    "tr_g_mean, tr_g_std = train_x[:,:,:,1].mean(), train_x[:,:,:,1].std()\n",
    "tr_b_mean, tr_b_std = train_x[:,:,:,2].mean(), train_x[:,:,:,2].std()"
   ]
  },
  {
   "cell_type": "code",
   "execution_count": 10,
   "metadata": {
    "id": "p9YWCYPat-HX",
    "tags": []
   },
   "outputs": [],
   "source": [
    "train_x_r = (train_x[:,:,:,0] - tr_r_mean) / tr_r_std\n",
    "train_x_g = (train_x[:,:,:,1] - tr_g_mean) / tr_g_std\n",
    "train_x_b = (train_x[:,:,:,2] - tr_b_mean) / tr_b_std"
   ]
  },
  {
   "cell_type": "code",
   "execution_count": 11,
   "metadata": {
    "colab": {
     "base_uri": "https://localhost:8080/"
    },
    "id": "FJUQpp4juOgc",
    "outputId": "4ad79296-47c6-49fd-c13f-2708e02538c9",
    "tags": []
   },
   "outputs": [
    {
     "data": {
      "text/plain": [
       "((50000, 32, 32), (50000, 32, 32), (50000, 32, 32))"
      ]
     },
     "execution_count": 11,
     "metadata": {},
     "output_type": "execute_result"
    }
   ],
   "source": [
    "train_x_r.shape, train_x_g.shape, train_x_b.shape"
   ]
  },
  {
   "cell_type": "code",
   "execution_count": 12,
   "metadata": {
    "id": "UbZ3FMHFuY9R",
    "tags": []
   },
   "outputs": [],
   "source": [
    "train_x = np.stack( (train_x_r, train_x_g, train_x_b), axis=3 )"
   ]
  },
  {
   "cell_type": "code",
   "execution_count": 13,
   "metadata": {
    "id": "lm9lxWGNuscl",
    "tags": []
   },
   "outputs": [],
   "source": [
    "test_x_r = (test_x[:,:,:,0] - tr_r_mean) / tr_r_std\n",
    "test_x_g = (test_x[:,:,:,1] - tr_g_mean) / tr_g_std\n",
    "test_x_b = (test_x[:,:,:,2] - tr_b_mean) / tr_b_std"
   ]
  },
  {
   "cell_type": "code",
   "execution_count": 14,
   "metadata": {
    "id": "_2J2B-dau7i1",
    "tags": []
   },
   "outputs": [],
   "source": [
    "test_x = np.stack( (test_x_r, test_x_g, test_x_b), axis=3 )"
   ]
  },
  {
   "cell_type": "code",
   "execution_count": 15,
   "metadata": {
    "colab": {
     "base_uri": "https://localhost:8080/"
    },
    "id": "5Mdu5LBlvFyk",
    "outputId": "6e738ade-e738-4bd0-85b3-5a4dd6013d5a",
    "tags": []
   },
   "outputs": [
    {
     "data": {
      "text/plain": [
       "((50000, 32, 32, 3), (10000, 32, 32, 3))"
      ]
     },
     "execution_count": 15,
     "metadata": {},
     "output_type": "execute_result"
    }
   ],
   "source": [
    "train_x.shape, test_x.shape"
   ]
  },
  {
   "cell_type": "markdown",
   "metadata": {
    "id": "SyVgGB6lfCuj"
   },
   "source": [
    "### Y변수: One-Hot Encoding"
   ]
  },
  {
   "cell_type": "code",
   "execution_count": 16,
   "metadata": {
    "colab": {
     "base_uri": "https://localhost:8080/"
    },
    "id": "KrOL2mlDTExq",
    "outputId": "59a74d2d-e66f-4005-e182-c8e51a608a9c",
    "tags": []
   },
   "outputs": [
    {
     "data": {
      "text/plain": [
       "(50000, 1)"
      ]
     },
     "execution_count": 16,
     "metadata": {},
     "output_type": "execute_result"
    }
   ],
   "source": [
    "train_y.shape"
   ]
  },
  {
   "cell_type": "code",
   "execution_count": 17,
   "metadata": {
    "id": "pks7Qq4qvZlL",
    "tags": []
   },
   "outputs": [],
   "source": [
    "train_y = np.ravel(train_y)\n",
    "test_y = np.ravel(test_y)"
   ]
  },
  {
   "cell_type": "code",
   "execution_count": 18,
   "metadata": {
    "colab": {
     "base_uri": "https://localhost:8080/"
    },
    "id": "y8-zYvOUvsPj",
    "outputId": "076ef5e8-96a8-42d6-80bd-04efaef889cc",
    "tags": []
   },
   "outputs": [
    {
     "data": {
      "text/plain": [
       "(50000,)"
      ]
     },
     "execution_count": 18,
     "metadata": {},
     "output_type": "execute_result"
    }
   ],
   "source": [
    "train_y.shape"
   ]
  },
  {
   "cell_type": "code",
   "execution_count": 19,
   "metadata": {
    "id": "H-IApOPcvtNb",
    "tags": []
   },
   "outputs": [],
   "source": [
    "class_n = len(np.unique(train_y))"
   ]
  },
  {
   "cell_type": "code",
   "execution_count": 20,
   "metadata": {
    "id": "J7C7tPP9v1Rt",
    "tags": []
   },
   "outputs": [],
   "source": [
    "from tensorflow.keras.utils import to_categorical"
   ]
  },
  {
   "cell_type": "code",
   "execution_count": 21,
   "metadata": {
    "id": "0B0_sl3Cv8A_",
    "tags": []
   },
   "outputs": [],
   "source": [
    "train_y = to_categorical(train_y, class_n)\n",
    "test_y = to_categorical(test_y, class_n)"
   ]
  },
  {
   "cell_type": "code",
   "execution_count": 22,
   "metadata": {
    "colab": {
     "base_uri": "https://localhost:8080/"
    },
    "id": "PC2r-NJ1wFDy",
    "outputId": "3f977fc2-82ea-48c7-970e-3221b706f68f",
    "tags": []
   },
   "outputs": [
    {
     "data": {
      "text/plain": [
       "((50000, 32, 32, 3), (50000, 10))"
      ]
     },
     "execution_count": 22,
     "metadata": {},
     "output_type": "execute_result"
    }
   ],
   "source": [
    "train_x.shape, train_y.shape"
   ]
  },
  {
   "cell_type": "markdown",
   "metadata": {
    "id": "mQ_FTTj7XAtC"
   },
   "source": [
    "### Modeling\n",
    "\n",
    "- EarlyStopping 의 옵션 조절\n",
    "- .fit( )\n",
    "- .predict( )\n",
    "\n",
    "- **모델 구조**\n",
    "    0. Functional, Sequential 중 택일\n",
    "    1. 인풋레이어\n",
    "    2. Convolution : 필터수 32개, 사이즈(3, 3), same padding\n",
    "    3. Convolution : 필터수 32개, 사이즈(3, 3), same padding\n",
    "    4. BatchNormalization\n",
    "    5. MaxPooling : 사이즈(2,2) 스트라이드(2,2)\n",
    "    6. DropOut : 25% 비활성화\n",
    "    7. Convolution : 필터수 64개, 사이즈(3, 3), same padding\n",
    "    8. Convolution : 필터수 64개, 사이즈(3, 3), same padding\n",
    "    9. BatchNormalization\n",
    "    10. MaxPooling : 사이즈(2,2) 스트라이드(2,2)\n",
    "    11. DropOut : 25% 비활성화\n",
    "    12. Flatten( )\n",
    "    13. Fully Connected Layer : 노드 1024개\n",
    "    14. BatchNormalization\n",
    "    15. DropOut : 35% 비활성화\n",
    "    16. 아웃풋레이어\n",
    "\n"
   ]
  },
  {
   "cell_type": "code",
   "execution_count": 23,
   "metadata": {
    "id": "_oCF2UAzxZ1f",
    "tags": []
   },
   "outputs": [],
   "source": [
    "import tensorflow as tf\n",
    "from tensorflow import keras"
   ]
  },
  {
   "cell_type": "code",
   "execution_count": null,
   "metadata": {
    "id": "ipQgY0vFTIHA"
   },
   "outputs": [],
   "source": [
    "## Sequential API\n",
    "# 1. 세션 클리어 : 메모리에 남아있는 모델 구조를 지워줘!\n",
    "keras.backend.clear_session()\n",
    "\n",
    "# 2. 모델 발판 생성 : 레이어 블록을 조립할 발판!\n",
    "model1 = keras.models.Sequential()\n",
    "\n",
    "# 3. 레이어 블록 조립 : .add( )\n",
    "# 인풋레이어\n",
    "model1.add( keras.layers.Input(shape=(32,32,3)) )\n",
    "\n",
    "# Convolution : 필터수 32개, 사이즈(3, 3), same padding\n",
    "model1.add( keras.layers.Conv2D(filters=32,          # 새롭게 제작하려는 feature map의 수! or 서로 다른 filters 수!\n",
    "                                kernel_size=(3,3),   # Conv2D 필터의 가로세로 사이즈 # depth는 자동 보정!\n",
    "                                strides=(1,1),       # Conv2D 필터의 이동 보폭!\n",
    "                                padding='same',      # 1. 이전 feature map 사이즈 유지 | 2. 외곽 정보를 더 반영!\n",
    "                                activation='relu',   # 주의!\n",
    "                                ) )\n",
    "# Convolution : 필터수 32개, 사이즈(3, 3), same padding\n",
    "model1.add( keras.layers.Conv2D(filters=32,          # 새롭게 제작하려는 feature map의 수! or 서로 다른 filters 수!\n",
    "                                kernel_size=(3,3),   # Conv2D 필터의 가로세로 사이즈 # depth는 자동 보정!\n",
    "                                strides=(1,1),       # Conv2D 필터의 이동 보폭!\n",
    "                                padding='same',      # 1. 이전 feature map 사이즈 유지 | 2. 외곽 정보를 더 반영!\n",
    "                                activation='relu',   # 주의!\n",
    "                                ) )\n",
    "# BatchNormalization\n",
    "model1.add( keras.layers.BatchNormalization() )\n",
    "# MaxPooling : 사이즈(2,2) 스트라이드(2,2)\n",
    "model1.add( keras.layers.MaxPool2D(pool_size=(2,2),  # Maxpool2D 필터의 가로세로 사이즈\n",
    "                                   strides=(2,2)     # Maxpool2D 필터의 이동 보폭! # default는 필터 사이즈를 따름!\n",
    "                                   ) )\n",
    "# DropOut : 25% 비활성화\n",
    "model1.add( keras.layers.Dropout(0.25) )\n",
    "\n",
    "# Convolution : 필터수 64개, 사이즈(3, 3), same padding\n",
    "model1.add( keras.layers.Conv2D(filters=64,          # 새롭게 제작하려는 feature map의 수! or 서로 다른 filters 수!\n",
    "                                kernel_size=(3,3),   # Conv2D 필터의 가로세로 사이즈 # depth는 자동 보정!\n",
    "                                strides=(1,1),       # Conv2D 필터의 이동 보폭!\n",
    "                                padding='same',      # 1. 이전 feature map 사이즈 유지 | 2. 외곽 정보를 더 반영!\n",
    "                                activation='relu',   # 주의!\n",
    "                                ) )\n",
    "# Convolution : 필터수 64개, 사이즈(3, 3), same padding\n",
    "model1.add( keras.layers.Conv2D(filters=64,          # 새롭게 제작하려는 feature map의 수! or 서로 다른 filters 수!\n",
    "                                kernel_size=(3,3),   # Conv2D 필터의 가로세로 사이즈 # depth는 자동 보정!\n",
    "                                strides=(1,1),       # Conv2D 필터의 이동 보폭!\n",
    "                                padding='same',      # 1. 이전 feature map 사이즈 유지 | 2. 외곽 정보를 더 반영!\n",
    "                                activation='relu',   # 주의!\n",
    "                                ) )\n",
    "# BatchNormalization\n",
    "model1.add( keras.layers.BatchNormalization() )\n",
    "# MaxPooling : 사이즈(2,2) 스트라이드(2,2)\n",
    "model1.add( keras.layers.MaxPool2D(pool_size=(2,2),  # Maxpool2D 필터의 가로세로 사이즈\n",
    "                                   strides=(2,2)     # Maxpool2D 필터의 이동 보폭! # default는 필터 사이즈를 따름!\n",
    "                                   ) )\n",
    "# DropOut : 25% 비활성화\n",
    "model1.add( keras.layers.Dropout(0.25) )\n",
    "\n",
    "# Flatten( )\n",
    "model1.add( keras.layers.Flatten() )\n",
    "# Fully Connected Layer : 노드 1024개\n",
    "model1.add( keras.layers.Dense(1024, activation='relu') )\n",
    "# BatchNormalization\n",
    "model1.add( keras.layers.BatchNormalization() )\n",
    "# DropOut : 35% 비활성화\n",
    "model1.add( keras.layers.Dropout(0.35) )\n",
    "# 아웃풋레이어\n",
    "model1.add( keras.layers.Dense(10, activation='softmax') )\n",
    "\n",
    "# 4. 컴파일\n",
    "model1.compile(optimizer='adam',\n",
    "               loss=keras.losses.categorical_crossentropy,\n",
    "               metrics=['accuracy']\n",
    "               )"
   ]
  },
  {
   "cell_type": "code",
   "execution_count": null,
   "metadata": {
    "colab": {
     "base_uri": "https://localhost:8080/"
    },
    "id": "poXSgDCLzl0c",
    "outputId": "b799ead1-6857-4dcc-a53d-2bf64d91628b"
   },
   "outputs": [
    {
     "name": "stdout",
     "output_type": "stream",
     "text": [
      "Model: \"sequential\"\n",
      "_________________________________________________________________\n",
      " Layer (type)                Output Shape              Param #   \n",
      "=================================================================\n",
      " conv2d (Conv2D)             (None, 32, 32, 32)        896       \n",
      "                                                                 \n",
      " conv2d_1 (Conv2D)           (None, 32, 32, 32)        9248      \n",
      "                                                                 \n",
      " batch_normalization (Batch  (None, 32, 32, 32)        128       \n",
      " Normalization)                                                  \n",
      "                                                                 \n",
      " max_pooling2d (MaxPooling2  (None, 16, 16, 32)        0         \n",
      " D)                                                              \n",
      "                                                                 \n",
      " dropout (Dropout)           (None, 16, 16, 32)        0         \n",
      "                                                                 \n",
      " conv2d_2 (Conv2D)           (None, 16, 16, 64)        18496     \n",
      "                                                                 \n",
      " conv2d_3 (Conv2D)           (None, 16, 16, 64)        36928     \n",
      "                                                                 \n",
      " batch_normalization_1 (Bat  (None, 16, 16, 64)        256       \n",
      " chNormalization)                                                \n",
      "                                                                 \n",
      " max_pooling2d_1 (MaxPoolin  (None, 8, 8, 64)          0         \n",
      " g2D)                                                            \n",
      "                                                                 \n",
      " dropout_1 (Dropout)         (None, 8, 8, 64)          0         \n",
      "                                                                 \n",
      " flatten (Flatten)           (None, 4096)              0         \n",
      "                                                                 \n",
      " dense (Dense)               (None, 1024)              4195328   \n",
      "                                                                 \n",
      " batch_normalization_2 (Bat  (None, 1024)              4096      \n",
      " chNormalization)                                                \n",
      "                                                                 \n",
      " dropout_2 (Dropout)         (None, 1024)              0         \n",
      "                                                                 \n",
      " dense_1 (Dense)             (None, 10)                10250     \n",
      "                                                                 \n",
      "=================================================================\n",
      "Total params: 4275626 (16.31 MB)\n",
      "Trainable params: 4273386 (16.30 MB)\n",
      "Non-trainable params: 2240 (8.75 KB)\n",
      "_________________________________________________________________\n"
     ]
    }
   ],
   "source": [
    "model1.summary()"
   ]
  },
  {
   "cell_type": "code",
   "execution_count": null,
   "metadata": {
    "id": "Xn1f7AoAzzZq"
   },
   "outputs": [],
   "source": [
    "from tensorflow.keras.backend import clear_session\n",
    "from tensorflow.keras.models import Model\n",
    "from tensorflow.keras.layers import Input, Dense, Flatten, BatchNormalization, Dropout\n",
    "from tensorflow.keras.layers import Conv2D, MaxPool2D\n",
    "from tensorflow.keras.losses import categorical_crossentropy"
   ]
  },
  {
   "cell_type": "code",
   "execution_count": null,
   "metadata": {
    "id": "C-8HSsTfzm1l"
   },
   "outputs": [],
   "source": [
    "## Functional API\n",
    "# 1. 세션 클리어 : 청소\n",
    "clear_session()\n",
    "\n",
    "# 2. 레이어 사슬처럼 엮기\n",
    "# 인풋레이어\n",
    "il = Input(shape=(32,32,3))\n",
    "# Convolution : 필터수 32개, 사이즈(3, 3), same padding\n",
    "hl = Conv2D(filters=32,         # 새롭게 제작하려는 feature map의 수! 혹은 서로 다른 필터 32개 사용!\n",
    "            kernel_size=(3,3),  # Conv2D 필터의 가로세로 사이즈!\n",
    "            strides=(1,1),      # Conv2D 필터의 이동 보폭!\n",
    "            padding='same',     # 1.이전 feature map 사이즈 보존! 2. 외곽 정보 더 반영!\n",
    "            activation='relu'\n",
    "            )(il)               # 주의!!!\n",
    "# Convolution : 필터수 32개, 사이즈(3, 3), same padding\n",
    "hl = Conv2D(filters=32,         # 새롭게 제작하려는 feature map의 수! 혹은 서로 다른 필터 32개 사용!\n",
    "            kernel_size=(3,3),  # Conv2D 필터의 가로세로 사이즈!\n",
    "            strides=(1,1),      # Conv2D 필터의 이동 보폭!\n",
    "            padding='same',     # 1.이전 feature map 사이즈 보존! 2. 외곽 정보 더 반영!\n",
    "            activation='relu'\n",
    "            )(hl)               # 주의!!!\n",
    "# BatchNormalization\n",
    "hl = BatchNormalization()(hl)\n",
    "# MaxPooling : 사이즈(2,2) 스트라이드(2,2)\n",
    "hl = MaxPool2D(pool_size=(2,2), # Maxpool2D 필터의 가로세로 사이즈!\n",
    "               strides=(2,2)    # Maxpool2D 필터의 이동 보폭! 기본적으로 필터 사이즈를 따름!\n",
    "               )(hl)\n",
    "# DropOut : 25% 비활성화\n",
    "hl = Dropout(0.25)(hl)\n",
    "\n",
    "# Convolution : 필터수 64개, 사이즈(3, 3), same padding\n",
    "hl = Conv2D(filters=64,         # 새롭게 제작하려는 feature map의 수! 혹은 서로 다른 필터 32개 사용!\n",
    "            kernel_size=(3,3),  # Conv2D 필터의 가로세로 사이즈!\n",
    "            strides=(1,1),      # Conv2D 필터의 이동 보폭!\n",
    "            padding='same',     # 1.이전 feature map 사이즈 보존! 2. 외곽 정보 더 반영!\n",
    "            activation='relu'\n",
    "            )(hl)               # 주의!!!\n",
    "# Convolution : 필터수 64개, 사이즈(3, 3), same padding\n",
    "hl = Conv2D(filters=64,         # 새롭게 제작하려는 feature map의 수! 혹은 서로 다른 필터 32개 사용!\n",
    "            kernel_size=(3,3),  # Conv2D 필터의 가로세로 사이즈!\n",
    "            strides=(1,1),      # Conv2D 필터의 이동 보폭!\n",
    "            padding='same',     # 1.이전 feature map 사이즈 보존! 2. 외곽 정보 더 반영!\n",
    "            activation='relu'\n",
    "            )(hl)               # 주의!!!\n",
    "# BatchNormalization\n",
    "hl = BatchNormalization()(hl)\n",
    "# MaxPooling : 사이즈(2,2) 스트라이드(2,2)\n",
    "hl = MaxPool2D(pool_size=(2,2), # Maxpool2D 필터의 가로세로 사이즈!\n",
    "               strides=(2,2)    # Maxpool2D 필터의 이동 보폭! 기본적으로 필터 사이즈를 따름!\n",
    "               )(hl)\n",
    "# DropOut : 25% 비활성화\n",
    "hl = Dropout(0.25)(hl)\n",
    "\n",
    "# Flatten( )\n",
    "hl = Flatten()(hl)\n",
    "# Fully Connected Layer : 노드 1024개\n",
    "hl = Dense(1024, activation='relu')(hl)\n",
    "# BatchNormalization\n",
    "hl = BatchNormalization()(hl)\n",
    "# DropOut : 35% 비활성화\n",
    "hl = Dropout(0.35)(hl)\n",
    "# 아웃풋레이어\n",
    "ol = Dense(10, activation='softmax')(hl)\n",
    "\n",
    "# 3. 모델의 시작과 끝 지정\n",
    "model2 = Model(il, ol)\n",
    "\n",
    "# 4. 컴파일\n",
    "model2.compile(optimizer='adam',\n",
    "               loss=categorical_crossentropy,\n",
    "               metrics=['accuracy']\n",
    "               )"
   ]
  },
  {
   "cell_type": "code",
   "execution_count": null,
   "metadata": {
    "colab": {
     "base_uri": "https://localhost:8080/"
    },
    "id": "EpW0qSYcTTHV",
    "outputId": "35e91b68-59e9-412f-9dba-4f17f52a2d2a"
   },
   "outputs": [
    {
     "name": "stdout",
     "output_type": "stream",
     "text": [
      "Model: \"model\"\n",
      "_________________________________________________________________\n",
      " Layer (type)                Output Shape              Param #   \n",
      "=================================================================\n",
      " input_1 (InputLayer)        [(None, 32, 32, 3)]       0         \n",
      "                                                                 \n",
      " conv2d (Conv2D)             (None, 32, 32, 32)        896       \n",
      "                                                                 \n",
      " conv2d_1 (Conv2D)           (None, 32, 32, 32)        9248      \n",
      "                                                                 \n",
      " batch_normalization (Batch  (None, 32, 32, 32)        128       \n",
      " Normalization)                                                  \n",
      "                                                                 \n",
      " max_pooling2d (MaxPooling2  (None, 16, 16, 32)        0         \n",
      " D)                                                              \n",
      "                                                                 \n",
      " dropout (Dropout)           (None, 16, 16, 32)        0         \n",
      "                                                                 \n",
      " conv2d_2 (Conv2D)           (None, 16, 16, 64)        18496     \n",
      "                                                                 \n",
      " conv2d_3 (Conv2D)           (None, 16, 16, 64)        36928     \n",
      "                                                                 \n",
      " batch_normalization_1 (Bat  (None, 16, 16, 64)        256       \n",
      " chNormalization)                                                \n",
      "                                                                 \n",
      " max_pooling2d_1 (MaxPoolin  (None, 8, 8, 64)          0         \n",
      " g2D)                                                            \n",
      "                                                                 \n",
      " dropout_1 (Dropout)         (None, 8, 8, 64)          0         \n",
      "                                                                 \n",
      " flatten (Flatten)           (None, 4096)              0         \n",
      "                                                                 \n",
      " dense (Dense)               (None, 1024)              4195328   \n",
      "                                                                 \n",
      " batch_normalization_2 (Bat  (None, 1024)              4096      \n",
      " chNormalization)                                                \n",
      "                                                                 \n",
      " dropout_2 (Dropout)         (None, 1024)              0         \n",
      "                                                                 \n",
      " dense_1 (Dense)             (None, 10)                10250     \n",
      "                                                                 \n",
      "=================================================================\n",
      "Total params: 4275626 (16.31 MB)\n",
      "Trainable params: 4273386 (16.30 MB)\n",
      "Non-trainable params: 2240 (8.75 KB)\n",
      "_________________________________________________________________\n"
     ]
    }
   ],
   "source": [
    "model2.summary()"
   ]
  },
  {
   "cell_type": "code",
   "execution_count": null,
   "metadata": {
    "id": "A0nK_5Zw1k2S"
   },
   "outputs": [],
   "source": [
    "from tensorflow.keras.callbacks import EarlyStopping"
   ]
  },
  {
   "cell_type": "code",
   "execution_count": null,
   "metadata": {
    "id": "2pYErSAv1tGg"
   },
   "outputs": [],
   "source": [
    "es = EarlyStopping(monitor='val_loss',     # 얼리스토핑을 적용할 대상!\n",
    "                   min_delta=0,            # Threshold. 이보다 크게 변화해야 성능 개선 간주!\n",
    "                   patience=3,             # 성능 개선이 발생하지 않을 때, 몇 epochs 더 볼 것인지!\n",
    "                   verbose=1,              # 어느 epoch가 최적인지 알려줌!\n",
    "                   restore_best_weights=True # 얼리스토핑으로 학습이 멈췄을 때, 최적의 가중치를 가진 시점으로 돌려줌!\n",
    "                   )"
   ]
  },
  {
   "cell_type": "code",
   "execution_count": null,
   "metadata": {
    "colab": {
     "base_uri": "https://localhost:8080/"
    },
    "id": "SSR7F4DB2Lgn",
    "outputId": "1572bf2e-d730-4f8d-e2a7-21f6f286bb48"
   },
   "outputs": [
    {
     "name": "stdout",
     "output_type": "stream",
     "text": [
      "Epoch 1/10000\n",
      "1250/1250 [==============================] - 23s 8ms/step - loss: 1.5644 - accuracy: 0.4883 - val_loss: 1.1193 - val_accuracy: 0.6283\n",
      "Epoch 2/10000\n",
      "1250/1250 [==============================] - 9s 7ms/step - loss: 1.0641 - accuracy: 0.6286 - val_loss: 0.8881 - val_accuracy: 0.6901\n",
      "Epoch 3/10000\n",
      "1250/1250 [==============================] - 9s 7ms/step - loss: 0.9226 - accuracy: 0.6790 - val_loss: 0.9034 - val_accuracy: 0.6921\n",
      "Epoch 4/10000\n",
      "1250/1250 [==============================] - 10s 8ms/step - loss: 0.8170 - accuracy: 0.7150 - val_loss: 0.8299 - val_accuracy: 0.7211\n",
      "Epoch 5/10000\n",
      "1250/1250 [==============================] - 10s 8ms/step - loss: 0.7404 - accuracy: 0.7428 - val_loss: 0.7956 - val_accuracy: 0.7306\n",
      "Epoch 6/10000\n",
      "1250/1250 [==============================] - 9s 7ms/step - loss: 0.6906 - accuracy: 0.7589 - val_loss: 0.7729 - val_accuracy: 0.7436\n",
      "Epoch 7/10000\n",
      "1250/1250 [==============================] - 10s 8ms/step - loss: 0.6233 - accuracy: 0.7829 - val_loss: 0.6676 - val_accuracy: 0.7739\n",
      "Epoch 8/10000\n",
      "1250/1250 [==============================] - 9s 8ms/step - loss: 0.5692 - accuracy: 0.8009 - val_loss: 0.6594 - val_accuracy: 0.7831\n",
      "Epoch 9/10000\n",
      "1250/1250 [==============================] - 9s 7ms/step - loss: 0.5153 - accuracy: 0.8210 - val_loss: 0.6843 - val_accuracy: 0.7760\n",
      "Epoch 10/10000\n",
      "1250/1250 [==============================] - 9s 7ms/step - loss: 0.4761 - accuracy: 0.8338 - val_loss: 0.6373 - val_accuracy: 0.7886\n",
      "Epoch 11/10000\n",
      "1250/1250 [==============================] - 10s 8ms/step - loss: 0.4448 - accuracy: 0.8424 - val_loss: 0.8425 - val_accuracy: 0.7519\n",
      "Epoch 12/10000\n",
      "1250/1250 [==============================] - 9s 7ms/step - loss: 0.3841 - accuracy: 0.8635 - val_loss: 0.6361 - val_accuracy: 0.7977\n",
      "Epoch 13/10000\n",
      "1250/1250 [==============================] - 10s 8ms/step - loss: 0.3479 - accuracy: 0.8777 - val_loss: 0.7693 - val_accuracy: 0.7677\n",
      "Epoch 14/10000\n",
      "1250/1250 [==============================] - 9s 8ms/step - loss: 0.3538 - accuracy: 0.8752 - val_loss: 0.6934 - val_accuracy: 0.7936\n",
      "Epoch 15/10000\n",
      "1248/1250 [============================>.] - ETA: 0s - loss: 0.3086 - accuracy: 0.8913Restoring model weights from the end of the best epoch: 12.\n",
      "1250/1250 [==============================] - 10s 8ms/step - loss: 0.3088 - accuracy: 0.8912 - val_loss: 0.6732 - val_accuracy: 0.7962\n",
      "Epoch 15: early stopping\n"
     ]
    },
    {
     "data": {
      "text/plain": [
       "<keras.src.callbacks.History at 0x797b3cb59630>"
      ]
     },
     "execution_count": 31,
     "metadata": {},
     "output_type": "execute_result"
    }
   ],
   "source": [
    "model2.fit(train_x, train_y, epochs=10000, verbose=1,\n",
    "           validation_split=0.2,   # 매 epoch마다 training set에서 20%를 validation으로 지정!\n",
    "           callbacks=[es]          # 얼리스토핑 적용!\n",
    "           )"
   ]
  },
  {
   "cell_type": "markdown",
   "metadata": {
    "id": "aveNny0jl90K"
   },
   "source": [
    "### Visualization"
   ]
  },
  {
   "cell_type": "code",
   "execution_count": null,
   "metadata": {
    "id": "cqiymLX7Jr0a"
   },
   "outputs": [],
   "source": [
    "# 원핫 인코딩 해제 : 카테고리 중 가장 높은 값\n",
    "train_y = train_y.argmax(axis=1)\n",
    "test_y = test_y.argmax(axis=1)"
   ]
  },
  {
   "cell_type": "code",
   "execution_count": null,
   "metadata": {
    "colab": {
     "base_uri": "https://localhost:8080/"
    },
    "id": "qc3Ap5q_bNgN",
    "outputId": "9365ee6d-ac8b-4ed8-db5c-ee6cd2dba2be"
   },
   "outputs": [
    {
     "name": "stdout",
     "output_type": "stream",
     "text": [
      "1563/1563 [==============================] - 3s 2ms/step\n",
      "313/313 [==============================] - 1s 3ms/step\n",
      "CNN\n",
      "트레이닝 정확도 : 92.97%\n",
      "테스트 정확도 : 79.27%\n"
     ]
    }
   ],
   "source": [
    "pred_train = model2.predict(train_x)\n",
    "pred_test = model2.predict(test_x)\n",
    "\n",
    "single_pred_train = pred_train.argmax(axis=1)\n",
    "single_pred_test = pred_test.argmax(axis=1)\n",
    "\n",
    "logi_train_accuracy = accuracy_score(train_y, single_pred_train)\n",
    "logi_test_accuracy = accuracy_score(test_y, single_pred_test)\n",
    "\n",
    "print('CNN')\n",
    "print(f'트레이닝 정확도 : {logi_train_accuracy*100:.2f}%')\n",
    "print(f'테스트 정확도 : {logi_test_accuracy*100:.2f}%')"
   ]
  },
  {
   "cell_type": "code",
   "execution_count": null,
   "metadata": {
    "colab": {
     "base_uri": "https://localhost:8080/",
     "height": 581
    },
    "id": "4D5LN9iNR3aW",
    "outputId": "551e5531-83f4-4ed9-8470-515fe0d6b5da"
   },
   "outputs": [
    {
     "name": "stderr",
     "output_type": "stream",
     "text": [
      "WARNING:matplotlib.image:Clipping input data to the valid range for imshow with RGB data ([0..1] for floats or [0..255] for integers).\n"
     ]
    },
    {
     "name": "stdout",
     "output_type": "stream",
     "text": [
      "id = 9649\n",
      "다음 그림은 Dog 입니다.\n",
      "모델의 예측 : Dog\n",
      "모델의 카테고리별 확률 : \n",
      "{'Airplane': 0.0, 'Automobile': 0.0, 'Bird': 0.0, 'Cat': 24.0, 'Deer': 0.0, 'Dog': 74.0, 'Frog': 0.0, 'Horse': 0.0, 'Ship': 0.0, 'Truck': 0.0}\n",
      "정답입니다\n"
     ]
    },
    {
     "data": {
      "image/png": "[encoded data removed]",
      "text/plain": [
       "<Figure size 640x480 with 1 Axes>"
      ]
     },
     "metadata": {},
     "output_type": "display_data"
    }
   ],
   "source": [
    "id = rd.randrange(0,10000)\n",
    "\n",
    "print(f'id = {id}')\n",
    "print(f'다음 그림은 {labels[test_y[id]]} 입니다.')\n",
    "print(f'모델의 예측 : {labels[single_pred_test[id]]}')\n",
    "\n",
    "prob = np.floor(pred_test[id]*100).tolist()\n",
    "prob_dict = {}\n",
    "\n",
    "for idx, prob in enumerate(prob) :\n",
    "    prob_dict[ labels[idx] ] = prob\n",
    "\n",
    "print('모델의 카테고리별 확률 : ')\n",
    "print(prob_dict)\n",
    "\n",
    "if test_y[id] == single_pred_test[id] :\n",
    "    print('정답입니다')\n",
    "else :\n",
    "    print('틀렸어요')\n",
    "\n",
    "plt.imshow(test_x[id].reshape([32,32,-1]))\n",
    "plt.show()"
   ]
  },
  {
   "cell_type": "code",
   "execution_count": null,
   "metadata": {
    "colab": {
     "base_uri": "https://localhost:8080/",
     "height": 581
    },
    "id": "XDm-YCj7VzIB",
    "outputId": "42557933-73d3-4d17-9689-1106e0a13c69"
   },
   "outputs": [
    {
     "name": "stderr",
     "output_type": "stream",
     "text": [
      "WARNING:matplotlib.image:Clipping input data to the valid range for imshow with RGB data ([0..1] for floats or [0..255] for integers).\n"
     ]
    },
    {
     "name": "stdout",
     "output_type": "stream",
     "text": [
      "id = 685\n",
      "다음 그림은 Frog 입니다.\n",
      "모델의 예측 : Bird\n",
      "모델의 카테고리별 확률 : \n",
      "{'Airplane': 0.0, 'Automobile': 0.0, 'Bird': 75.0, 'Cat': 7.0, 'Deer': 15.0, 'Dog': 0.0, 'Frog': 0.0, 'Horse': 0.0, 'Ship': 0.0, 'Truck': 0.0}\n",
      "틀렸어요\n"
     ]
    },
    {
     "data": {
      "image/png": "[encoded data removed]",
      "text/plain": [
       "<Figure size 640x480 with 1 Axes>"
      ]
     },
     "metadata": {},
     "output_type": "display_data"
    }
   ],
   "source": [
    "'''\n",
    "틀린 것만 관찰해보기\n",
    "\n",
    "'''\n",
    "\n",
    "true_false = (test_y == single_pred_test)\n",
    "f_id = np.where(true_false == False)[0]\n",
    "f_n = len(f_id)\n",
    "\n",
    "id = f_id[rd.randrange(0,f_n)]\n",
    "\n",
    "\n",
    "print(f'id = {id}')\n",
    "print(f'다음 그림은 {labels[test_y[id]]} 입니다.')\n",
    "print(f'모델의 예측 : {labels[single_pred_test[id]]}')\n",
    "\n",
    "prob = np.floor(pred_test[id]*100).tolist()\n",
    "prob_dict = {}\n",
    "\n",
    "for idx, prob in enumerate(prob) :\n",
    "    prob_dict[ labels[idx] ] = prob\n",
    "\n",
    "print('모델의 카테고리별 확률 : ')\n",
    "print(prob_dict)\n",
    "\n",
    "if test_y[id] == single_pred_test[id] :\n",
    "    print('정답입니다')\n",
    "else :\n",
    "    print('틀렸어요')\n",
    "\n",
    "plt.imshow(test_x[id].reshape([32,32,-1]))\n",
    "plt.show()"
   ]
  }
 ],
 "metadata": {
  "accelerator": "GPU",
  "colab": {
   "gpuType": "T4",
   "provenance": []
  },
  "kernelspec": {
   "display_name": "Python 3 (ipykernel)",
   "language": "python",
   "name": "python3"
  },
  "language_info": {
   "codemirror_mode": {
    "name": "ipython",
    "version": 3
   },
   "file_extension": ".py",
   "mimetype": "text/x-python",
   "name": "python",
   "nbconvert_exporter": "python",
   "pygments_lexer": "ipython3",
   "version": "3.11.4"
  }
 },
 "nbformat": 4,
 "nbformat_minor": 4
}
