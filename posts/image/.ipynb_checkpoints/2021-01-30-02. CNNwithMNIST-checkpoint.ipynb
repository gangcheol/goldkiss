{
 "cells": [
  {
   "cell_type": "raw",
   "metadata": {},
   "source": [
    "---\n",
    "title : \"01. MNIST\"\n",
    "author : \"CIC\"\n",
    "date : \"01/30/21\"\n",
    "categoris : [python]\n",
    "---"
   ]
  },
  {
   "cell_type": "markdown",
   "metadata": {
    "id": "HZc219MFFibh"
   },
   "source": [
    "# CNN with MNIST"
   ]
  },
  {
   "cell_type": "markdown",
   "metadata": {
    "id": "CcKmYCVBFNSN"
   },
   "source": [
    "### Library Loading"
   ]
  },
  {
   "cell_type": "code",
   "execution_count": 1,
   "metadata": {
    "executionInfo": {
     "elapsed": 4349,
     "status": "ok",
     "timestamp": 1695003811092,
     "user": {
      "displayName": "김건영",
      "userId": "04338252548733078915"
     },
     "user_tz": -540
    },
    "id": "wY-LJviYFP1w"
   },
   "outputs": [],
   "source": [
    "import numpy as np\n",
    "import pandas as pd\n",
    "import matplotlib.pyplot as plt\n",
    "\n",
    "from sklearn.model_selection import train_test_split\n",
    "from sklearn.metrics import accuracy_score\n",
    "\n",
    "import tensorflow as tf\n",
    "from tensorflow import keras\n",
    "\n",
    "from tensorflow.keras.backend import clear_session\n",
    "from tensorflow.keras.models import Sequential, Model\n",
    "from tensorflow.keras.layers import Input, Dense, BatchNormalization, Dropout, Flatten, Conv2D, MaxPool2D\n",
    "from tensorflow.keras.callbacks import EarlyStopping\n",
    "\n",
    "from tensorflow.keras.preprocessing.image import ImageDataGenerator"
   ]
  },
  {
   "cell_type": "markdown",
   "metadata": {
    "id": "8n8X73gfiYBa"
   },
   "source": [
    "## Data Loading"
   ]
  },
  {
   "cell_type": "code",
   "execution_count": 2,
   "metadata": {
    "colab": {
     "base_uri": "https://localhost:8080/"
    },
    "executionInfo": {
     "elapsed": 679,
     "status": "ok",
     "timestamp": 1695003813747,
     "user": {
      "displayName": "김건영",
      "userId": "04338252548733078915"
     },
     "user_tz": -540
    },
    "id": "N3TWkoiOFRlV",
    "outputId": "1506c96d-09a9-47e1-eaac-0f48d44bb052"
   },
   "outputs": [
    {
     "name": "stdout",
     "output_type": "stream",
     "text": [
      "Downloading data from https://storage.googleapis.com/tensorflow/tf-keras-datasets/mnist.npz\n",
      "11490434/11490434 [==============================] - 0s 0us/step\n"
     ]
    }
   ],
   "source": [
    "(train_x, train_y), (test_x, test_y) = keras.datasets.mnist.load_data()"
   ]
  },
  {
   "cell_type": "code",
   "execution_count": 3,
   "metadata": {
    "colab": {
     "base_uri": "https://localhost:8080/"
    },
    "executionInfo": {
     "elapsed": 3,
     "status": "ok",
     "timestamp": 1695003813747,
     "user": {
      "displayName": "김건영",
      "userId": "04338252548733078915"
     },
     "user_tz": -540
    },
    "id": "8KNvSXY8FNWW",
    "outputId": "0c8e6443-a32d-4b79-f55d-f1693db91bf8"
   },
   "outputs": [
    {
     "name": "stdout",
     "output_type": "stream",
     "text": [
      "(60000, 28, 28) (60000,) (10000, 28, 28) (10000,)\n"
     ]
    }
   ],
   "source": [
    "print(train_x.shape, train_y.shape, test_x.shape, test_y.shape)"
   ]
  },
  {
   "cell_type": "markdown",
   "metadata": {
    "id": "NGj-LcfBoME8"
   },
   "source": [
    "* 데이터 살펴보기"
   ]
  },
  {
   "cell_type": "code",
   "execution_count": 4,
   "metadata": {
    "colab": {
     "base_uri": "https://localhost:8080/",
     "height": 467
    },
    "executionInfo": {
     "elapsed": 336,
     "status": "ok",
     "timestamp": 1695003818771,
     "user": {
      "displayName": "김건영",
      "userId": "04338252548733078915"
     },
     "user_tz": -540
    },
    "id": "BAd66i9TTRkG",
    "outputId": "ef5a3c8e-0589-4c95-a564-c8167b0a34dd"
   },
   "outputs": [
    {
     "name": "stdout",
     "output_type": "stream",
     "text": [
      "id = 1749\n",
      "다음 그림은 숫자 2 입니다.\n"
     ]
    },
    {
     "data": {
      "image/png": "[encoded data removed]",
      "text/plain": [
       "<Figure size 640x480 with 1 Axes>"
      ]
     },
     "metadata": {},
     "output_type": "display_data"
    }
   ],
   "source": [
    "id = np.random.randint(0, 10000)\n",
    "\n",
    "print(f'id = {id}')\n",
    "print(f'다음 그림은 숫자 {test_y[id]} 입니다.')\n",
    "\n",
    "plt.imshow(test_x[id], cmap='Greys')\n",
    "plt.show()"
   ]
  },
  {
   "cell_type": "markdown",
   "metadata": {
    "id": "nxjV4ytsM0Rq"
   },
   "source": [
    "## Data Preprocessing"
   ]
  },
  {
   "cell_type": "markdown",
   "metadata": {
    "id": "yQUNQe-zxp6S"
   },
   "source": [
    "* Data split\n",
    "    - training set : validation set = 8 : 2\n",
    "    - 재연을 위한 난수 고정 : 2023"
   ]
  },
  {
   "cell_type": "code",
   "execution_count": 5,
   "metadata": {
    "executionInfo": {
     "elapsed": 311,
     "status": "ok",
     "timestamp": 1695003835129,
     "user": {
      "displayName": "김건영",
      "userId": "04338252548733078915"
     },
     "user_tz": -540
    },
    "id": "4wkPWGqQh9Bj"
   },
   "outputs": [],
   "source": [
    "train_x, val_x, train_y, val_y = train_test_split(train_x, train_y, test_size=0.2, random_state=2023)"
   ]
  },
  {
   "cell_type": "markdown",
   "metadata": {
    "id": "viSln5pqGc0G"
   },
   "source": [
    "* Scaling\n",
    "    - min-max scaling"
   ]
  },
  {
   "cell_type": "code",
   "execution_count": 6,
   "metadata": {
    "colab": {
     "base_uri": "https://localhost:8080/"
    },
    "executionInfo": {
     "elapsed": 4,
     "status": "ok",
     "timestamp": 1695003838255,
     "user": {
      "displayName": "김건영",
      "userId": "04338252548733078915"
     },
     "user_tz": -540
    },
    "id": "wDay4MrZGkNl",
    "outputId": "c26db4b3-a016-4046-fc18-61283e875c44"
   },
   "outputs": [
    {
     "name": "stdout",
     "output_type": "stream",
     "text": [
      "max : 255   min : 0\n"
     ]
    }
   ],
   "source": [
    "print('max :', train_x.max(),'  min :', train_x.min())"
   ]
  },
  {
   "cell_type": "code",
   "execution_count": 7,
   "metadata": {
    "colab": {
     "base_uri": "https://localhost:8080/"
    },
    "executionInfo": {
     "elapsed": 3,
     "status": "ok",
     "timestamp": 1695003838649,
     "user": {
      "displayName": "김건영",
      "userId": "04338252548733078915"
     },
     "user_tz": -540
    },
    "id": "DPFeq7FvGkyI",
    "outputId": "559d9dd3-6508-4716-9206-c99e19da0a01"
   },
   "outputs": [
    {
     "data": {
      "text/plain": [
       "(255, 0)"
      ]
     },
     "execution_count": 7,
     "metadata": {},
     "output_type": "execute_result"
    }
   ],
   "source": [
    "max_v, min_v = train_x.max(), train_x.min()\n",
    "max_v, min_v"
   ]
  },
  {
   "cell_type": "code",
   "execution_count": 8,
   "metadata": {
    "executionInfo": {
     "elapsed": 408,
     "status": "ok",
     "timestamp": 1695003839356,
     "user": {
      "displayName": "김건영",
      "userId": "04338252548733078915"
     },
     "user_tz": -540
    },
    "id": "UmCxLDO8_ZZ8"
   },
   "outputs": [],
   "source": [
    "train_x = (train_x - min_v) / (max_v - min_v)\n",
    "val_x = (val_x - min_v) / (max_v - min_v)\n",
    "test_x = (test_x - min_v) / (max_v - min_v)"
   ]
  },
  {
   "cell_type": "code",
   "execution_count": 9,
   "metadata": {
    "colab": {
     "base_uri": "https://localhost:8080/"
    },
    "executionInfo": {
     "elapsed": 3,
     "status": "ok",
     "timestamp": 1695003839356,
     "user": {
      "displayName": "김건영",
      "userId": "04338252548733078915"
     },
     "user_tz": -540
    },
    "id": "YxB553zQverB",
    "outputId": "25d88e2d-bf78-4497-d337-498906ed2031"
   },
   "outputs": [
    {
     "name": "stdout",
     "output_type": "stream",
     "text": [
      "max : 1.0   min : 0.0\n"
     ]
    }
   ],
   "source": [
    "print('max :', train_x.max(),'  min :', train_x.min())"
   ]
  },
  {
   "cell_type": "markdown",
   "metadata": {
    "id": "EzITtROqvv0J"
   },
   "source": [
    "* One-Hot Encoding"
   ]
  },
  {
   "cell_type": "code",
   "execution_count": 10,
   "metadata": {
    "executionInfo": {
     "elapsed": 280,
     "status": "ok",
     "timestamp": 1695003842977,
     "user": {
      "displayName": "김건영",
      "userId": "04338252548733078915"
     },
     "user_tz": -540
    },
    "id": "PoFKLB2cPyJF"
   },
   "outputs": [],
   "source": [
    "from tensorflow.keras.utils import to_categorical"
   ]
  },
  {
   "cell_type": "code",
   "execution_count": 11,
   "metadata": {
    "executionInfo": {
     "elapsed": 1,
     "status": "ok",
     "timestamp": 1695003843275,
     "user": {
      "displayName": "김건영",
      "userId": "04338252548733078915"
     },
     "user_tz": -540
    },
    "id": "-DIWGIwK-Pwm"
   },
   "outputs": [],
   "source": [
    "class_n = len(np.unique(train_y))"
   ]
  },
  {
   "cell_type": "code",
   "execution_count": 12,
   "metadata": {
    "executionInfo": {
     "elapsed": 2,
     "status": "ok",
     "timestamp": 1695003843276,
     "user": {
      "displayName": "김건영",
      "userId": "04338252548733078915"
     },
     "user_tz": -540
    },
    "id": "1-jHiu9FvzIt"
   },
   "outputs": [],
   "source": [
    "train_y = to_categorical(train_y, class_n)\n",
    "val_y = to_categorical(val_y, class_n)\n",
    "test_y = to_categorical(test_y, class_n)"
   ]
  },
  {
   "cell_type": "code",
   "execution_count": 13,
   "metadata": {
    "colab": {
     "base_uri": "https://localhost:8080/"
    },
    "executionInfo": {
     "elapsed": 3,
     "status": "ok",
     "timestamp": 1695003843627,
     "user": {
      "displayName": "김건영",
      "userId": "04338252548733078915"
     },
     "user_tz": -540
    },
    "id": "bI-oblx4wRua",
    "outputId": "722cfc0b-0cbb-420c-9f13-e3f2fbb0d3e9"
   },
   "outputs": [
    {
     "data": {
      "text/plain": [
       "((48000, 28, 28), (48000, 10))"
      ]
     },
     "execution_count": 13,
     "metadata": {},
     "output_type": "execute_result"
    }
   ],
   "source": [
    "train_x.shape, train_y.shape"
   ]
  },
  {
   "cell_type": "markdown",
   "metadata": {
    "id": "y3pMI2r_3ww4"
   },
   "source": [
    "* 흑백 정보를 명시하기 위한 reshape"
   ]
  },
  {
   "cell_type": "code",
   "execution_count": 14,
   "metadata": {
    "executionInfo": {
     "elapsed": 286,
     "status": "ok",
     "timestamp": 1695003856742,
     "user": {
      "displayName": "김건영",
      "userId": "04338252548733078915"
     },
     "user_tz": -540
    },
    "id": "99f0aagKM5Zl"
   },
   "outputs": [],
   "source": [
    "train_x = np.expand_dims(train_x, axis=-1)\n",
    "val_x = np.expand_dims(val_x, axis=-1)\n",
    "test_x = np.expand_dims(test_x, axis=-1)"
   ]
  },
  {
   "cell_type": "code",
   "execution_count": 15,
   "metadata": {
    "colab": {
     "base_uri": "https://localhost:8080/"
    },
    "executionInfo": {
     "elapsed": 3,
     "status": "ok",
     "timestamp": 1695003857031,
     "user": {
      "displayName": "김건영",
      "userId": "04338252548733078915"
     },
     "user_tz": -540
    },
    "id": "7WqQekzg376e",
    "outputId": "9bbdc811-ac6c-4dbb-94c0-c76e81c8a94e"
   },
   "outputs": [
    {
     "data": {
      "text/plain": [
       "((48000, 28, 28, 1),\n",
       " (48000, 10),\n",
       " (12000, 28, 28, 1),\n",
       " (12000, 10),\n",
       " (10000, 28, 28, 1),\n",
       " (10000, 10))"
      ]
     },
     "execution_count": 15,
     "metadata": {},
     "output_type": "execute_result"
    }
   ],
   "source": [
    "train_x.shape, train_y.shape, val_x.shape, val_y.shape, test_x.shape, test_y.shape"
   ]
  },
  {
   "cell_type": "markdown",
   "metadata": {
    "id": "tdPzPHxLfW3Q"
   },
   "source": [
    "## **Image Data Augmentation**\n",
    "\n",
    "- ImageDataGenerator\n",
    "- .flow( )"
   ]
  },
  {
   "cell_type": "code",
   "execution_count": 16,
   "metadata": {
    "executionInfo": {
     "elapsed": 305,
     "status": "ok",
     "timestamp": 1695003878986,
     "user": {
      "displayName": "김건영",
      "userId": "04338252548733078915"
     },
     "user_tz": -540
    },
    "id": "T7DZ0_MEf6NE"
   },
   "outputs": [],
   "source": [
    "trainIDG = ImageDataGenerator(rotation_range=15,    # randomly rotate images in the range (degrees, 0 to 180)\n",
    "                            zoom_range = 0.1,       # Randomly zoom image\n",
    "                            width_shift_range=0.1,  # randomly shift images horizontally (fraction of total width)\n",
    "                            height_shift_range=0.1, # randomly shift images vertically (fraction of total height)\n",
    "                            horizontal_flip=False,  # randomly flip images\n",
    "                            vertical_flip=False)    # randomly flip images\n",
    "\n",
    "valIDG = ImageDataGenerator()"
   ]
  },
  {
   "cell_type": "code",
   "execution_count": null,
   "metadata": {
    "id": "I_OzkwXk5nnP"
   },
   "outputs": [],
   "source": [
    "## ImageDataGenerator 설정에 따라 불필요 할 수 있다\n",
    "# trainIDG.fit(train_x)\n",
    "# valIDG.fit(val_x)"
   ]
  },
  {
   "cell_type": "code",
   "execution_count": 17,
   "metadata": {
    "executionInfo": {
     "elapsed": 288,
     "status": "ok",
     "timestamp": 1695003893008,
     "user": {
      "displayName": "김건영",
      "userId": "04338252548733078915"
     },
     "user_tz": -540
    },
    "id": "GH7vy9ZI4YWj"
   },
   "outputs": [],
   "source": [
    "flow_trainIDG = trainIDG.flow(train_x, train_y, batch_size=256)\n",
    "flow_valIDG = valIDG.flow(val_x, val_y, batch_size=256)"
   ]
  },
  {
   "cell_type": "markdown",
   "metadata": {
    "id": "SzNYHB8aGmIy"
   },
   "source": [
    "## Modeling : CNN\n",
    "\n",
    "- 조건\n",
    "    1. Sequential API, Functiona API 중 택일.\n",
    "    2. [이 구조를 미니 버전으로 활용. 참고 링크](https://img1.daumcdn.net/thumb/R800x0/?scode=mtistory2&fname=https%3A%2F%2Ft1.daumcdn.net%2Fcfile%2Ftistory%2F99DFA5415B38AC752E)\n",
    "    3. DropOut, BatchNormalization 등의 기능도 같이 활용\n",
    "    4. Early Stopping을 사용"
   ]
  },
  {
   "cell_type": "markdown",
   "metadata": {
    "id": "7eUCrggjmELy"
   },
   "source": [
    "* Sequential API"
   ]
  },
  {
   "cell_type": "code",
   "execution_count": null,
   "metadata": {
    "id": "Zt3DEJ6fHDGo"
   },
   "outputs": [],
   "source": [
    "# 1. 세션 클리어\n",
    "clear_session()\n",
    "\n",
    "# 2. 모델 선언\n",
    "model1 = Sequential()\n",
    "\n",
    "# 3. 레이어 블록 조립\n",
    "model1.add( Input(shape=(28,28,1)) )\n",
    "\n",
    "model1.add( Conv2D(filters=64,          # Conv2D 필터를 통해 새롭게 제작하려는 feature map의 수\n",
    "                   kernel_size=(3,3),   # Conv2D 필터의 가로 세로 사이즈\n",
    "                   strides=(1,1),       # Conv2D 필터의 이동 보폭\n",
    "                   padding='same',      # 1. 기존의 사이즈를 보존하겠다. | 2. 외곽의 정보를 조금 더 반영하려고!\n",
    "                   activation='relu',   # 빼먹지 않게 주의!\n",
    "                   ) )\n",
    "model1.add( Conv2D(filters=64,          # Conv2D 필터를 통해 새롭게 제작하려는 feature map의 수\n",
    "                   kernel_size=(3,3),   # Conv2D 필터의 가로 세로 사이즈\n",
    "                   strides=(1,1),       # Conv2D 필터의 이동 보폭\n",
    "                   padding='same',      # 1. 기존의 사이즈를 보존하겠다. | 2. 외곽의 정보를 조금 더 반영하려고!\n",
    "                   activation='relu',   # 빼먹지 않게 주의!\n",
    "                   ) )\n",
    "model1.add( MaxPool2D(pool_size=(2,2),  # Maxpool2D 필터의 가로 세로 사이즈\n",
    "                      strides=(2,2)     # Maxpool2D 필터의 이동 보폭 : 기본적으로 pool_size를 따른다.\n",
    "                      ) )\n",
    "model1.add( BatchNormalization() )\n",
    "model1.add( Dropout(0.2) )\n",
    "\n",
    "model1.add( Conv2D(filters=128,         # Conv2D 필터를 통해 새롭게 제작하려는 feature map의 수\n",
    "                   kernel_size=(3,3),   # Conv2D 필터의 가로 세로 사이즈\n",
    "                   strides=(1,1),       # Conv2D 필터의 이동 보폭\n",
    "                   padding='same',      # 1. 기존의 사이즈를 보존하겠다. | 2. 외곽의 정보를 조금 더 반영하려고!\n",
    "                   activation='relu',   # 빼먹지 않게 주의!\n",
    "                   ) )\n",
    "model1.add( Conv2D(filters=128,         # Conv2D 필터를 통해 새롭게 제작하려는 feature map의 수\n",
    "                   kernel_size=(3,3),   # Conv2D 필터의 가로 세로 사이즈\n",
    "                   strides=(1,1),       # Conv2D 필터의 이동 보폭\n",
    "                   padding='same',      # 1. 기존의 사이즈를 보존하겠다. | 2. 외곽의 정보를 조금 더 반영하려고!\n",
    "                   activation='relu',   # 빼먹지 않게 주의!\n",
    "                   ) )\n",
    "model1.add( MaxPool2D(pool_size=(2,2),  # Maxpool2D 필터의 가로 세로 사이즈\n",
    "                      strides=(2,2)     # Maxpool2D 필터의 이동 보폭 : 기본적으로 pool_size를 따른다.\n",
    "                      ) )\n",
    "model1.add( BatchNormalization() )\n",
    "model1.add( Dropout(0.2) )\n",
    "\n",
    "model1.add( Flatten() )\n",
    "model1.add( Dense(256, activation='relu') )\n",
    "model1.add( Dense(10, activation='softmax') )\n",
    "\n",
    "# 4. 컴파일\n",
    "model1.compile(optimizer='adam', loss='categorical_crossentropy',\n",
    "              metrics=['accuracy'])\n",
    "\n",
    "model1.summary()"
   ]
  },
  {
   "cell_type": "markdown",
   "metadata": {
    "id": "SyLN7Vedmt3h"
   },
   "source": [
    "* Functional API"
   ]
  },
  {
   "cell_type": "code",
   "execution_count": 19,
   "metadata": {
    "colab": {
     "base_uri": "https://localhost:8080/"
    },
    "executionInfo": {
     "elapsed": 15,
     "status": "ok",
     "timestamp": 1695003937192,
     "user": {
      "displayName": "김건영",
      "userId": "04338252548733078915"
     },
     "user_tz": -540
    },
    "id": "uKAyRwyzmsj6",
    "outputId": "f504401f-8230-4714-f1b3-49d645e390fa"
   },
   "outputs": [
    {
     "name": "stdout",
     "output_type": "stream",
     "text": [
      "Model: \"model\"\n",
      "_________________________________________________________________\n",
      " Layer (type)                Output Shape              Param #   \n",
      "=================================================================\n",
      " input_1 (InputLayer)        [(None, 28, 28, 1)]       0         \n",
      "                                                                 \n",
      " conv2d (Conv2D)             (None, 28, 28, 64)        640       \n",
      "                                                                 \n",
      " conv2d_1 (Conv2D)           (None, 28, 28, 64)        36928     \n",
      "                                                                 \n",
      " max_pooling2d (MaxPooling2  (None, 14, 14, 64)        0         \n",
      " D)                                                              \n",
      "                                                                 \n",
      " batch_normalization (Batch  (None, 14, 14, 64)        256       \n",
      " Normalization)                                                  \n",
      "                                                                 \n",
      " dropout (Dropout)           (None, 14, 14, 64)        0         \n",
      "                                                                 \n",
      " conv2d_2 (Conv2D)           (None, 14, 14, 128)       73856     \n",
      "                                                                 \n",
      " conv2d_3 (Conv2D)           (None, 14, 14, 128)       147584    \n",
      "                                                                 \n",
      " max_pooling2d_1 (MaxPoolin  (None, 7, 7, 128)         0         \n",
      " g2D)                                                            \n",
      "                                                                 \n",
      " batch_normalization_1 (Bat  (None, 7, 7, 128)         512       \n",
      " chNormalization)                                                \n",
      "                                                                 \n",
      " dropout_1 (Dropout)         (None, 7, 7, 128)         0         \n",
      "                                                                 \n",
      " flatten (Flatten)           (None, 6272)              0         \n",
      "                                                                 \n",
      " dense (Dense)               (None, 256)               1605888   \n",
      "                                                                 \n",
      " dense_1 (Dense)             (None, 10)                2570      \n",
      "                                                                 \n",
      "=================================================================\n",
      "Total params: 1868234 (7.13 MB)\n",
      "Trainable params: 1867850 (7.13 MB)\n",
      "Non-trainable params: 384 (1.50 KB)\n",
      "_________________________________________________________________\n"
     ]
    }
   ],
   "source": [
    "# 1. 세션 클리어\n",
    "clear_session()\n",
    "\n",
    "# 2. 레이어 엮기\n",
    "il = Input(shape=(28,28,1))\n",
    "\n",
    "hl = Conv2D(filters=64,          # Conv2D 필터를 통해 새롭게 제작하려는 feature map의 수\n",
    "            kernel_size=(3,3),   # Conv2D 필터의 가로 세로 사이즈\n",
    "            strides=(1,1),       # Conv2D 필터의 이동 보폭\n",
    "            padding='same',      # 1. 기존의 사이즈를 보존하겠다. | 2. 외곽의 정보를 조금 더 반영하려고!\n",
    "            activation='relu',   # 빼먹지 않게 주의!\n",
    "            )(il)\n",
    "hl = Conv2D(filters=64,          # Conv2D 필터를 통해 새롭게 제작하려는 feature map의 수\n",
    "            kernel_size=(3,3),   # Conv2D 필터의 가로 세로 사이즈\n",
    "            strides=(1,1),       # Conv2D 필터의 이동 보폭\n",
    "            padding='same',      # 1. 기존의 사이즈를 보존하겠다. | 2. 외곽의 정보를 조금 더 반영하려고!\n",
    "            activation='relu',   # 빼먹지 않게 주의!\n",
    "            )(hl)\n",
    "hl = MaxPool2D(pool_size=(2,2),  # Maxpool2D 필터의 가로 세로 사이즈\n",
    "               strides=(2,2)     # Maxpool2D 필터의 이동 보폭 : 기본적으로 pool_size를 따른다.\n",
    "               )(hl)\n",
    "hl = BatchNormalization()(hl)\n",
    "hl = Dropout(0.2)(hl)\n",
    "\n",
    "hl = Conv2D(filters=128,         # Conv2D 필터를 통해 새롭게 제작하려는 feature map의 수\n",
    "            kernel_size=(3,3),   # Conv2D 필터의 가로 세로 사이즈\n",
    "            strides=(1,1),       # Conv2D 필터의 이동 보폭\n",
    "            padding='same',      # 1. 기존의 사이즈를 보존하겠다. | 2. 외곽의 정보를 조금 더 반영하려고!\n",
    "            activation='relu',   # 빼먹지 않게 주의!\n",
    "            )(hl)\n",
    "hl = Conv2D(filters=128,         # Conv2D 필터를 통해 새롭게 제작하려는 feature map의 수\n",
    "            kernel_size=(3,3),   # Conv2D 필터의 가로 세로 사이즈\n",
    "            strides=(1,1),       # Conv2D 필터의 이동 보폭\n",
    "            padding='same',      # 1. 기존의 사이즈를 보존하겠다. | 2. 외곽의 정보를 조금 더 반영하려고!\n",
    "            activation='relu',   # 빼먹지 않게 주의!\n",
    "            )(hl)\n",
    "hl = MaxPool2D(pool_size=(2,2),  # Maxpool2D 필터의 가로 세로 사이즈\n",
    "               strides=(2,2)     # Maxpool2D 필터의 이동 보폭 : 기본적으로 pool_size를 따른다.\n",
    "               )(hl)\n",
    "hl = BatchNormalization()(hl)\n",
    "hl = Dropout(0.2)(hl)\n",
    "\n",
    "hl = Flatten()(hl)\n",
    "hl = Dense(256, activation='relu')(hl)\n",
    "ol = Dense(10, activation='softmax')(hl)\n",
    "\n",
    "# 3. 모델의 시작과 끝 지정\n",
    "model2 = Model(il, ol)\n",
    "\n",
    "# 4. 컴파일\n",
    "model2.compile(optimizer='adam', loss='categorical_crossentropy',\n",
    "              metrics=['accuracy'])\n",
    "\n",
    "model2.summary()"
   ]
  },
  {
   "cell_type": "markdown",
   "metadata": {
    "id": "Fd0htivHxq3-"
   },
   "source": [
    "* Early Stopping"
   ]
  },
  {
   "cell_type": "code",
   "execution_count": 20,
   "metadata": {
    "executionInfo": {
     "elapsed": 285,
     "status": "ok",
     "timestamp": 1695003940816,
     "user": {
      "displayName": "김건영",
      "userId": "04338252548733078915"
     },
     "user_tz": -540
    },
    "id": "J984rALQfjyD"
   },
   "outputs": [],
   "source": [
    "es = EarlyStopping(monitor='val_loss',         # 얼리 스토핑을 적용할 관측 대상\n",
    "                   min_delta=0,                # Threshold. 설정한 값 이상으로 변화해야 성능이 개선되었다고 간주.\n",
    "                   patience=3,                 # 성능 개선이 발생하지 않았을 때, 몇 epoch를 더 지켜볼 것인가\n",
    "                   verbose=1,\n",
    "                   restore_best_weights=True)  # 성능이 가장 좋은 epoch의 가중치를 적용함."
   ]
  },
  {
   "cell_type": "markdown",
   "metadata": {
    "id": "J08S5r0w9ToB"
   },
   "source": [
    "* **Model Checkpoint**"
   ]
  },
  {
   "cell_type": "code",
   "execution_count": 21,
   "metadata": {
    "executionInfo": {
     "elapsed": 302,
     "status": "ok",
     "timestamp": 1695004080361,
     "user": {
      "displayName": "김건영",
      "userId": "04338252548733078915"
     },
     "user_tz": -540
    },
    "id": "i0cZbEi7Cxfg"
   },
   "outputs": [],
   "source": [
    "from tensorflow.keras.callbacks import ModelCheckpoint"
   ]
  },
  {
   "cell_type": "code",
   "execution_count": 22,
   "metadata": {
    "executionInfo": {
     "elapsed": 2,
     "status": "ok",
     "timestamp": 1695004080655,
     "user": {
      "displayName": "김건영",
      "userId": "04338252548733078915"
     },
     "user_tz": -540
    },
    "id": "ftBQPpSO9Tao"
   },
   "outputs": [],
   "source": [
    "mcp = ModelCheckpoint(filepath='/content/model1.h5',   # 모델 저장 경로\n",
    "                      monitor='val_loss',              # 모델 저장의 관심 대상\n",
    "                      verbose=1,                       # 어느 시점에서 저장되는지 알려줌\n",
    "                      save_best_only=True,             # 최고 성능 모델만 저장\n",
    "                      save_weights_only=False)         # True : 가중치만 저장 | False : 모델 구조 포함하여 저장"
   ]
  },
  {
   "cell_type": "markdown",
   "metadata": {
    "id": "YotJneY7xyce"
   },
   "source": [
    "* .fit( )"
   ]
  },
  {
   "cell_type": "code",
   "execution_count": 23,
   "metadata": {
    "colab": {
     "base_uri": "https://localhost:8080/"
    },
    "executionInfo": {
     "elapsed": 189249,
     "status": "ok",
     "timestamp": 1695004294869,
     "user": {
      "displayName": "김건영",
      "userId": "04338252548733078915"
     },
     "user_tz": -540
    },
    "id": "knZfBr3OPjap",
    "outputId": "bc402e9d-4b2f-4c58-dccf-e15fb8b444ee"
   },
   "outputs": [
    {
     "name": "stdout",
     "output_type": "stream",
     "text": [
      "Epoch 1/10000\n",
      "188/188 [==============================] - ETA: 0s - loss: 0.3212 - accuracy: 0.9084\n",
      "Epoch 1: val_loss improved from inf to 2.61382, saving model to /content/model1.h5\n",
      "188/188 [==============================] - 30s 92ms/step - loss: 0.3212 - accuracy: 0.9084 - val_loss: 2.6138 - val_accuracy: 0.1226\n",
      "Epoch 2/10000\n",
      "  1/188 [..............................] - ETA: 20s - loss: 0.0857 - accuracy: 0.9805"
     ]
    },
    {
     "name": "stderr",
     "output_type": "stream",
     "text": [
      "/usr/local/lib/python3.10/dist-packages/keras/src/engine/training.py:3000: UserWarning: You are saving your model as an HDF5 file via `model.save()`. This file format is considered legacy. We recommend using instead the native Keras format, e.g. `model.save('my_model.keras')`.\n",
      "  saving_api.save_model(\n"
     ]
    },
    {
     "name": "stdout",
     "output_type": "stream",
     "text": [
      "188/188 [==============================] - ETA: 0s - loss: 0.0771 - accuracy: 0.9756\n",
      "Epoch 2: val_loss improved from 2.61382 to 0.95099, saving model to /content/model1.h5\n",
      "188/188 [==============================] - 17s 91ms/step - loss: 0.0771 - accuracy: 0.9756 - val_loss: 0.9510 - val_accuracy: 0.6347\n",
      "Epoch 3/10000\n",
      "188/188 [==============================] - ETA: 0s - loss: 0.0593 - accuracy: 0.9808\n",
      "Epoch 3: val_loss improved from 0.95099 to 0.03867, saving model to /content/model1.h5\n",
      "188/188 [==============================] - 17s 88ms/step - loss: 0.0593 - accuracy: 0.9808 - val_loss: 0.0387 - val_accuracy: 0.9902\n",
      "Epoch 4/10000\n",
      "188/188 [==============================] - ETA: 0s - loss: 0.0476 - accuracy: 0.9853\n",
      "Epoch 4: val_loss did not improve from 0.03867\n",
      "188/188 [==============================] - 17s 89ms/step - loss: 0.0476 - accuracy: 0.9853 - val_loss: 0.0421 - val_accuracy: 0.9869\n",
      "Epoch 5/10000\n",
      "188/188 [==============================] - ETA: 0s - loss: 0.0443 - accuracy: 0.9863\n",
      "Epoch 5: val_loss improved from 0.03867 to 0.03179, saving model to /content/model1.h5\n",
      "188/188 [==============================] - 16s 87ms/step - loss: 0.0443 - accuracy: 0.9863 - val_loss: 0.0318 - val_accuracy: 0.9911\n",
      "Epoch 6/10000\n",
      "188/188 [==============================] - ETA: 0s - loss: 0.0374 - accuracy: 0.9881\n",
      "Epoch 6: val_loss did not improve from 0.03179\n",
      "188/188 [==============================] - 17s 91ms/step - loss: 0.0374 - accuracy: 0.9881 - val_loss: 0.0564 - val_accuracy: 0.9837\n",
      "Epoch 7/10000\n",
      "188/188 [==============================] - ETA: 0s - loss: 0.0386 - accuracy: 0.9878\n",
      "Epoch 7: val_loss improved from 0.03179 to 0.03126, saving model to /content/model1.h5\n",
      "188/188 [==============================] - 17s 89ms/step - loss: 0.0386 - accuracy: 0.9878 - val_loss: 0.0313 - val_accuracy: 0.9915\n",
      "Epoch 8/10000\n",
      "188/188 [==============================] - ETA: 0s - loss: 0.0346 - accuracy: 0.9897\n",
      "Epoch 8: val_loss did not improve from 0.03126\n",
      "188/188 [==============================] - 17s 91ms/step - loss: 0.0346 - accuracy: 0.9897 - val_loss: 0.0327 - val_accuracy: 0.9897\n",
      "Epoch 9/10000\n",
      "188/188 [==============================] - ETA: 0s - loss: 0.0313 - accuracy: 0.9904\n",
      "Epoch 9: val_loss did not improve from 0.03126\n",
      "188/188 [==============================] - 16s 88ms/step - loss: 0.0313 - accuracy: 0.9904 - val_loss: 0.0387 - val_accuracy: 0.9898\n",
      "Epoch 10/10000\n",
      "188/188 [==============================] - ETA: 0s - loss: 0.0305 - accuracy: 0.9905Restoring model weights from the end of the best epoch: 7.\n",
      "\n",
      "Epoch 10: val_loss did not improve from 0.03126\n",
      "188/188 [==============================] - 16s 87ms/step - loss: 0.0305 - accuracy: 0.9905 - val_loss: 0.0429 - val_accuracy: 0.9890\n",
      "Epoch 10: early stopping\n"
     ]
    }
   ],
   "source": [
    "history = model1.fit(flow_trainIDG, epochs=10000, verbose=1,\n",
    "                     validation_data=flow_valIDG,\n",
    "                     callbacks=[es, mcp]\n",
    "                     )"
   ]
  },
  {
   "cell_type": "code",
   "execution_count": 24,
   "metadata": {
    "colab": {
     "base_uri": "https://localhost:8080/"
    },
    "executionInfo": {
     "elapsed": 954,
     "status": "ok",
     "timestamp": 1695004982489,
     "user": {
      "displayName": "김건영",
      "userId": "04338252548733078915"
     },
     "user_tz": -540
    },
    "id": "FJMYuSnQPoqt",
    "outputId": "8a6a864a-eaca-439e-d6e8-d549abb1c8e9"
   },
   "outputs": [
    {
     "name": "stdout",
     "output_type": "stream",
     "text": [
      "40/40 [==============================] - 1s 14ms/step - loss: 0.0222 - accuracy: 0.9929\n",
      "Test Loss: 0.022246\n",
      "Test Accuracy: 99.290%\n"
     ]
    }
   ],
   "source": [
    "performance_test = model1.evaluate(test_x, test_y, batch_size=256)\n",
    "\n",
    "print(f'Test Loss: {performance_test[0]:.6f}')\n",
    "print(f'Test Accuracy: {performance_test[1]*100:.3f}%')"
   ]
  },
  {
   "cell_type": "code",
   "execution_count": 25,
   "metadata": {
    "colab": {
     "base_uri": "https://localhost:8080/",
     "height": 472
    },
    "executionInfo": {
     "elapsed": 675,
     "status": "ok",
     "timestamp": 1695004983160,
     "user": {
      "displayName": "김건영",
      "userId": "04338252548733078915"
     },
     "user_tz": -540
    },
    "id": "H5Ir4b-DQ3VG",
    "outputId": "bd2729d1-c346-42a5-e922-b1622d43149a"
   },
   "outputs": [
    {
     "data": {
      "image/png": "[encoded data removed]",
      "text/plain": [
       "<Figure size 640x480 with 1 Axes>"
      ]
     },
     "metadata": {},
     "output_type": "display_data"
    }
   ],
   "source": [
    "if not isinstance(history, dict):\n",
    "    history = history.history\n",
    "\n",
    "plt.plot(history['accuracy'])\n",
    "plt.plot(history['val_accuracy'])\n",
    "plt.title('Accuracy : Training vs Validation')\n",
    "plt.ylabel('Accuracy')\n",
    "plt.xlabel('Epoch')\n",
    "plt.legend(['Training', 'Validation'], loc=0)\n",
    "plt.show()"
   ]
  },
  {
   "cell_type": "code",
   "execution_count": 26,
   "metadata": {
    "colab": {
     "base_uri": "https://localhost:8080/",
     "height": 472
    },
    "executionInfo": {
     "elapsed": 4,
     "status": "ok",
     "timestamp": 1695004983160,
     "user": {
      "displayName": "김건영",
      "userId": "04338252548733078915"
     },
     "user_tz": -540
    },
    "id": "mfiGA-DvQ42n",
    "outputId": "0b5f638b-75c4-4ba7-ec19-45c68fbde342"
   },
   "outputs": [
    {
     "data": {
      "image/png": "[encoded data removed]",
      "text/plain": [
       "<Figure size 640x480 with 1 Axes>"
      ]
     },
     "metadata": {},
     "output_type": "display_data"
    }
   ],
   "source": [
    "if not isinstance(history, dict):\n",
    "    history = history.history\n",
    "\n",
    "plt.plot(history['loss'])\n",
    "plt.plot(history['val_loss'])\n",
    "plt.title('Loss : Training vs Validation')\n",
    "plt.ylabel('Loss')\n",
    "plt.xlabel('Epoch')\n",
    "plt.legend(['Training', 'Validation'], loc=0)\n",
    "plt.show()"
   ]
  },
  {
   "cell_type": "markdown",
   "metadata": {
    "id": "IwBEu_E8HFzv"
   },
   "source": [
    "## **Model Save & Load**\n",
    "\n",
    "- .save( )\n",
    "- .load_model( )"
   ]
  },
  {
   "cell_type": "markdown",
   "metadata": {
    "id": "eJVf5aeSqt0k"
   },
   "source": [
    "* 모델을 새롭게 저장하여 구조와 가중치 일부를 살펴보자"
   ]
  },
  {
   "cell_type": "code",
   "execution_count": 27,
   "metadata": {
    "executionInfo": {
     "elapsed": 1,
     "status": "ok",
     "timestamp": 1695005038970,
     "user": {
      "displayName": "김건영",
      "userId": "04338252548733078915"
     },
     "user_tz": -540
    },
    "id": "kMoK-blTmEVv"
   },
   "outputs": [],
   "source": [
    "model1.save('my_first_save.h5')"
   ]
  },
  {
   "cell_type": "code",
   "execution_count": 28,
   "metadata": {
    "colab": {
     "base_uri": "https://localhost:8080/"
    },
    "executionInfo": {
     "elapsed": 749,
     "status": "ok",
     "timestamp": 1695005098867,
     "user": {
      "displayName": "김건영",
      "userId": "04338252548733078915"
     },
     "user_tz": -540
    },
    "id": "8vASPqhKmKAR",
    "outputId": "99ad8e33-0f67-4c89-b633-a29fdddc9bdc"
   },
   "outputs": [
    {
     "name": "stdout",
     "output_type": "stream",
     "text": [
      "Model: \"sequential\"\n",
      "_________________________________________________________________\n",
      " Layer (type)                Output Shape              Param #   \n",
      "=================================================================\n",
      " conv2d (Conv2D)             (None, 28, 28, 64)        640       \n",
      "                                                                 \n",
      " conv2d_1 (Conv2D)           (None, 28, 28, 64)        36928     \n",
      "                                                                 \n",
      " max_pooling2d (MaxPooling2  (None, 14, 14, 64)        0         \n",
      " D)                                                              \n",
      "                                                                 \n",
      " batch_normalization (Batch  (None, 14, 14, 64)        256       \n",
      " Normalization)                                                  \n",
      "                                                                 \n",
      " dropout (Dropout)           (None, 14, 14, 64)        0         \n",
      "                                                                 \n",
      " conv2d_2 (Conv2D)           (None, 14, 14, 128)       73856     \n",
      "                                                                 \n",
      " conv2d_3 (Conv2D)           (None, 14, 14, 128)       147584    \n",
      "                                                                 \n",
      " max_pooling2d_1 (MaxPoolin  (None, 7, 7, 128)         0         \n",
      " g2D)                                                            \n",
      "                                                                 \n",
      " batch_normalization_1 (Bat  (None, 7, 7, 128)         512       \n",
      " chNormalization)                                                \n",
      "                                                                 \n",
      " dropout_1 (Dropout)         (None, 7, 7, 128)         0         \n",
      "                                                                 \n",
      " flatten (Flatten)           (None, 6272)              0         \n",
      "                                                                 \n",
      " dense (Dense)               (None, 256)               1605888   \n",
      "                                                                 \n",
      " dense_1 (Dense)             (None, 10)                2570      \n",
      "                                                                 \n",
      "=================================================================\n",
      "Total params: 1868234 (7.13 MB)\n",
      "Trainable params: 1867850 (7.13 MB)\n",
      "Non-trainable params: 384 (1.50 KB)\n",
      "_________________________________________________________________\n"
     ]
    }
   ],
   "source": [
    "clear_session()\n",
    "model = keras.models.load_model('my_first_save.h5')\n",
    "model.summary()"
   ]
  },
  {
   "cell_type": "code",
   "execution_count": 31,
   "metadata": {
    "colab": {
     "base_uri": "https://localhost:8080/"
    },
    "executionInfo": {
     "elapsed": 302,
     "status": "ok",
     "timestamp": 1695005129866,
     "user": {
      "displayName": "김건영",
      "userId": "04338252548733078915"
     },
     "user_tz": -540
    },
    "id": "6EiKZ2ONqWcW",
    "outputId": "3a16d143-7477-4186-b2c6-918a3d37d4c5"
   },
   "outputs": [
    {
     "data": {
      "text/plain": [
       "array([[-0.02984254, -0.12516664, -0.09413426,  0.09054146, -0.07211596,\n",
       "        -0.01527972,  0.00230363,  0.04401932, -0.01355622,  0.04863958,\n",
       "        -0.08964277, -0.04560584,  0.05172559, -0.11350822, -0.03701778,\n",
       "        -0.04161173,  0.02648799, -0.05457827, -0.00339586, -0.03861612,\n",
       "        -0.02852188,  0.04478017,  0.09058408,  0.0198766 , -0.07154213,\n",
       "        -0.14043497,  0.02664175, -0.07911503, -0.02397238,  0.10413881,\n",
       "         0.01074672, -0.02098845,  0.05726629,  0.08587891,  0.04663802,\n",
       "        -0.07617614,  0.08382248, -0.05756453, -0.00537495,  0.02765768,\n",
       "         0.05966743, -0.09275575,  0.09132898, -0.03411004, -0.11128342,\n",
       "        -0.01560384, -0.04309869,  0.08575775,  0.02638629, -0.00027417,\n",
       "         0.04176026, -0.02452355, -0.09161343, -0.12658899, -0.0884955 ,\n",
       "         0.00123525, -0.03394348, -0.03826233, -0.0472492 , -0.03134252,\n",
       "         0.09108598, -0.03336433,  0.09566312, -0.04078798]],\n",
       "      dtype=float32)"
      ]
     },
     "execution_count": 31,
     "metadata": {},
     "output_type": "execute_result"
    }
   ],
   "source": [
    "model.get_weights()[0][0][0]"
   ]
  },
  {
   "cell_type": "markdown",
   "metadata": {
    "id": "biaUcoFdq69e"
   },
   "source": [
    "* 학습 과정에서 저장된 모델을 불러와 구조와 가중치 일부를 살펴보자"
   ]
  },
  {
   "cell_type": "code",
   "execution_count": null,
   "metadata": {
    "id": "Dm8r_NAcmdTD"
   },
   "outputs": [],
   "source": [
    "clear_session()\n",
    "model = keras.models.load_model('/content/model1.h5')\n",
    "model.summary()"
   ]
  },
  {
   "cell_type": "code",
   "execution_count": 33,
   "metadata": {
    "colab": {
     "base_uri": "https://localhost:8080/"
    },
    "executionInfo": {
     "elapsed": 320,
     "status": "ok",
     "timestamp": 1695005146602,
     "user": {
      "displayName": "김건영",
      "userId": "04338252548733078915"
     },
     "user_tz": -540
    },
    "id": "ikJ7gWejqeyd",
    "outputId": "5497ad32-c7d2-419e-a569-0fac59721c2a"
   },
   "outputs": [
    {
     "data": {
      "text/plain": [
       "array([[-0.02984254, -0.12516664, -0.09413426,  0.09054146, -0.07211596,\n",
       "        -0.01527972,  0.00230363,  0.04401932, -0.01355622,  0.04863958,\n",
       "        -0.08964277, -0.04560584,  0.05172559, -0.11350822, -0.03701778,\n",
       "        -0.04161173,  0.02648799, -0.05457827, -0.00339586, -0.03861612,\n",
       "        -0.02852188,  0.04478017,  0.09058408,  0.0198766 , -0.07154213,\n",
       "        -0.14043497,  0.02664175, -0.07911503, -0.02397238,  0.10413881,\n",
       "         0.01074672, -0.02098845,  0.05726629,  0.08587891,  0.04663802,\n",
       "        -0.07617614,  0.08382248, -0.05756453, -0.00537495,  0.02765768,\n",
       "         0.05966743, -0.09275575,  0.09132898, -0.03411004, -0.11128342,\n",
       "        -0.01560384, -0.04309869,  0.08575775,  0.02638629, -0.00027417,\n",
       "         0.04176026, -0.02452355, -0.09161343, -0.12658899, -0.0884955 ,\n",
       "         0.00123525, -0.03394348, -0.03826233, -0.0472492 , -0.03134252,\n",
       "         0.09108598, -0.03336433,  0.09566312, -0.04078798]],\n",
       "      dtype=float32)"
      ]
     },
     "execution_count": 33,
     "metadata": {},
     "output_type": "execute_result"
    }
   ],
   "source": [
    "model.get_weights()[0][0][0]"
   ]
  },
  {
   "cell_type": "markdown",
   "metadata": {
    "id": "AUkmpSUHqOlR"
   },
   "source": [
    "* .predict( )"
   ]
  },
  {
   "cell_type": "code",
   "execution_count": 34,
   "metadata": {
    "colab": {
     "base_uri": "https://localhost:8080/"
    },
    "executionInfo": {
     "elapsed": 6273,
     "status": "ok",
     "timestamp": 1695005223906,
     "user": {
      "displayName": "김건영",
      "userId": "04338252548733078915"
     },
     "user_tz": -540
    },
    "id": "ErRidyIDTAXd",
    "outputId": "5e59035a-d7ea-4403-f6e1-2736f0eb9eb3"
   },
   "outputs": [
    {
     "name": "stdout",
     "output_type": "stream",
     "text": [
      "1500/1500 [==============================] - 4s 2ms/step\n",
      "313/313 [==============================] - 1s 2ms/step\n",
      "CNN\n",
      "트레이닝 정확도 : 99.46%\n",
      "테스트 정확도 : 99.29%\n"
     ]
    }
   ],
   "source": [
    "pred_train = model.predict(train_x)\n",
    "pred_test = model.predict(test_x)\n",
    "\n",
    "single_pred_train = pred_train.argmax(axis=1)\n",
    "single_pred_test = pred_test.argmax(axis=1)\n",
    "\n",
    "logi_train_accuracy = accuracy_score(train_y.argmax(axis=1), single_pred_train)\n",
    "logi_test_accuracy = accuracy_score(test_y.argmax(axis=1), single_pred_test)\n",
    "\n",
    "print('CNN')\n",
    "print(f'트레이닝 정확도 : {logi_train_accuracy*100:.2f}%')\n",
    "print(f'테스트 정확도 : {logi_test_accuracy*100:.2f}%')"
   ]
  },
  {
   "cell_type": "markdown",
   "metadata": {
    "id": "WBwvQRgSrIo5"
   },
   "source": [
    "## Visualization"
   ]
  },
  {
   "cell_type": "markdown",
   "metadata": {
    "id": "mAT2X6mYrL7a"
   },
   "source": [
    "* 실제 데이터 확인"
   ]
  },
  {
   "cell_type": "code",
   "execution_count": 35,
   "metadata": {
    "colab": {
     "base_uri": "https://localhost:8080/",
     "height": 523
    },
    "executionInfo": {
     "elapsed": 302,
     "status": "ok",
     "timestamp": 1695005227182,
     "user": {
      "displayName": "김건영",
      "userId": "04338252548733078915"
     },
     "user_tz": -540
    },
    "id": "L3U38rGQTDx_",
    "outputId": "cee5bbe0-9fc7-4248-a602-f7c4a15f2046"
   },
   "outputs": [
    {
     "name": "stdout",
     "output_type": "stream",
     "text": [
      "id = 4950\n",
      "다음 그림은 숫자 2 입니다.\n",
      "모델의 예측 : 2\n",
      "모델의 카테고리별 확률 : [ 0.  0. 99.  0.  0.  0.  0.  0.  0.  0.]\n",
      "정답입니다\n"
     ]
    },
    {
     "data": {
      "image/png": "[encoded data removed]",
      "text/plain": [
       "<Figure size 640x480 with 1 Axes>"
      ]
     },
     "metadata": {},
     "output_type": "display_data"
    }
   ],
   "source": [
    "'''\n",
    "성능 확인을 위해\n",
    "Ctrl+Enter를 이용하여\n",
    "반복 실행 해보자!\n",
    "'''\n",
    "\n",
    "id = np.random.randint(0,10000)\n",
    "\n",
    "print(f'id = {id}')\n",
    "print(f'다음 그림은 숫자 {test_y.argmax(axis=1)[id]} 입니다.')\n",
    "print(f'모델의 예측 : {single_pred_test[id]}')\n",
    "print(f'모델의 카테고리별 확률 : {np.floor(pred_test[id]*100)}')\n",
    "\n",
    "if test_y.argmax(axis=1)[id] == single_pred_test[id] :\n",
    "    print('정답입니다')\n",
    "else :\n",
    "    print('틀렸어요')\n",
    "\n",
    "plt.imshow(test_x[id].reshape([28,-1]), cmap='Greys')\n",
    "plt.show()"
   ]
  },
  {
   "cell_type": "markdown",
   "metadata": {
    "id": "e7z2MDlVrNxT"
   },
   "source": [
    "* 틀린 이미지만 확인해보기"
   ]
  },
  {
   "cell_type": "code",
   "execution_count": 39,
   "metadata": {
    "colab": {
     "base_uri": "https://localhost:8080/",
     "height": 523
    },
    "executionInfo": {
     "elapsed": 311,
     "status": "ok",
     "timestamp": 1695005264086,
     "user": {
      "displayName": "김건영",
      "userId": "04338252548733078915"
     },
     "user_tz": -540
    },
    "id": "3RDJuEcbTAeg",
    "outputId": "edd8e375-0d5d-4595-b657-3e52a9d7e61a"
   },
   "outputs": [
    {
     "name": "stdout",
     "output_type": "stream",
     "text": [
      "id = 9594\n",
      "다음 그림은 숫자 1 입니다.\n",
      "모델의 예측 : 6\n",
      "모델의 카테고리별 확률 : [ 0. 24.  0.  0.  0.  0. 73.  0.  1.  0.]\n",
      "틀렸어요\n"
     ]
    },
    {
     "data": {
      "image/png": "[encoded data removed]",
      "text/plain": [
       "<Figure size 640x480 with 1 Axes>"
      ]
     },
     "metadata": {},
     "output_type": "display_data"
    }
   ],
   "source": [
    "true_false = (test_y.argmax(axis=1) == single_pred_test)\n",
    "f_id = np.where(true_false == False)[0]\n",
    "f_n = len(f_id)\n",
    "\n",
    "id = f_id[np.random.randint(0,f_n)]\n",
    "\n",
    "print(f'id = {id}')\n",
    "print(f'다음 그림은 숫자 {test_y.argmax(axis=1)[id]} 입니다.')\n",
    "print(f'모델의 예측 : {single_pred_test[id]}')\n",
    "print(f'모델의 카테고리별 확률 : {np.floor(pred_test[id]*100)}')\n",
    "\n",
    "if test_y.argmax(axis=1)[id] == single_pred_test[id] :\n",
    "    print('정답입니다')\n",
    "else :\n",
    "    print('틀렸어요')\n",
    "\n",
    "plt.imshow(test_x[id].reshape([28,-1]), cmap='Greys')\n",
    "plt.show()"
   ]
  }
 ],
 "metadata": {
  "accelerator": "GPU",
  "colab": {
   "gpuType": "T4",
   "provenance": []
  },
  "kernelspec": {
   "display_name": "Python 3 (ipykernel)",
   "language": "python",
   "name": "python3"
  },
  "language_info": {
   "codemirror_mode": {
    "name": "ipython",
    "version": 3
   },
   "file_extension": ".py",
   "mimetype": "text/x-python",
   "name": "python",
   "nbconvert_exporter": "python",
   "pygments_lexer": "ipython3",
   "version": "3.11.4"
  }
 },
 "nbformat": 4,
 "nbformat_minor": 4
}
