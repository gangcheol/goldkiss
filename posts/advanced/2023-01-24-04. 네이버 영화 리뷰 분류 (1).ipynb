{
 "cells": [
  {
   "cell_type": "raw",
   "metadata": {
    "id": "uhrEuM9YHsnr"
   },
   "source": [
    "---\n",
    "title : \"04. 네이버 영화 리뷰 분류\"\n",
    "author : \"gc\"\n",
    "date : \"01/24/23\"\n",
    "categories : [python]\n",
    "---"
   ]
  },
  {
   "cell_type": "markdown",
   "metadata": {
    "id": "D26Y6lQNFSqi"
   },
   "source": [
    "# 데이터 로드"
   ]
  },
  {
   "cell_type": "code",
   "execution_count": 106,
   "metadata": {
    "executionInfo": {
     "elapsed": 461,
     "status": "ok",
     "timestamp": 1705977449458,
     "user": {
      "displayName": "ccc flkwerkdai",
      "userId": "13507850890638580947"
     },
     "user_tz": -540
    },
    "id": "5Nb213SXFfc7",
    "tags": []
   },
   "outputs": [],
   "source": [
    "import pickle\n",
    "import pandas as pd\n",
    "import numpy as np\n",
    "import matplotlib.pyplot as plt\n",
    "import re\n",
    "import urllib.request\n",
    "from tqdm import tqdm\n",
    "from tensorflow.keras.preprocessing.text import Tokenizer\n",
    "from tensorflow.keras.preprocessing.sequence import pad_sequences"
   ]
  },
  {
   "cell_type": "code",
   "execution_count": 107,
   "metadata": {
    "colab": {
     "base_uri": "https://localhost:8080/"
    },
    "executionInfo": {
     "elapsed": 922,
     "status": "ok",
     "timestamp": 1705977450842,
     "user": {
      "displayName": "ccc flkwerkdai",
      "userId": "13507850890638580947"
     },
     "user_tz": -540
    },
    "id": "hnp5jVBaH_jq",
    "outputId": "df96c053-c75b-4d1b-fea0-d40569d666f3"
   },
   "outputs": [
    {
     "data": {
      "text/plain": [
       "('ratings_test.txt', <http.client.HTTPMessage at 0x7a5a106631c0>)"
      ]
     },
     "execution_count": 107,
     "metadata": {},
     "output_type": "execute_result"
    }
   ],
   "source": [
    "urllib.request.urlretrieve(\"https://raw.githubusercontent.com/e9t/nsmc/master/ratings_train.txt\", filename=\"ratings_train.txt\")\n",
    "urllib.request.urlretrieve(\"https://raw.githubusercontent.com/e9t/nsmc/master/ratings_test.txt\", filename=\"ratings_test.txt\")"
   ]
  },
  {
   "cell_type": "code",
   "execution_count": 108,
   "metadata": {
    "executionInfo": {
     "elapsed": 657,
     "status": "ok",
     "timestamp": 1705977451498,
     "user": {
      "displayName": "ccc flkwerkdai",
      "userId": "13507850890638580947"
     },
     "user_tz": -540
    },
    "id": "u6NU8U_XFsYU",
    "tags": []
   },
   "outputs": [],
   "source": [
    "train_data = pd.read_table('ratings_train.txt')\n",
    "test_data = pd.read_table('ratings_test.txt')"
   ]
  },
  {
   "cell_type": "code",
   "execution_count": 109,
   "metadata": {
    "colab": {
     "base_uri": "https://localhost:8080/",
     "height": 206
    },
    "executionInfo": {
     "elapsed": 5,
     "status": "ok",
     "timestamp": 1705977451499,
     "user": {
      "displayName": "ccc flkwerkdai",
      "userId": "13507850890638580947"
     },
     "user_tz": -540
    },
    "id": "8QNlxmcaKeET",
    "outputId": "6afdbfff-9580-41c9-e8e9-428eb9c307f8",
    "tags": []
   },
   "outputs": [
    {
     "data": {
      "text/html": [
       "\n",
       "  <div id=\"df-e8268b61-1787-413d-8ca9-a9a228ca63ad\" class=\"colab-df-container\">\n",
       "    <div>\n",
       "<style scoped>\n",
       "    .dataframe tbody tr th:only-of-type {\n",
       "        vertical-align: middle;\n",
       "    }\n",
       "\n",
       "    .dataframe tbody tr th {\n",
       "        vertical-align: top;\n",
       "    }\n",
       "\n",
       "    .dataframe thead th {\n",
       "        text-align: right;\n",
       "    }\n",
       "</style>\n",
       "<table border=\"1\" class=\"dataframe\">\n",
       "  <thead>\n",
       "    <tr style=\"text-align: right;\">\n",
       "      <th></th>\n",
       "      <th>id</th>\n",
       "      <th>document</th>\n",
       "      <th>label</th>\n",
       "    </tr>\n",
       "  </thead>\n",
       "  <tbody>\n",
       "    <tr>\n",
       "      <th>0</th>\n",
       "      <td>9976970</td>\n",
       "      <td>아 더빙.. 진짜 짜증나네요 목소리</td>\n",
       "      <td>0</td>\n",
       "    </tr>\n",
       "    <tr>\n",
       "      <th>1</th>\n",
       "      <td>3819312</td>\n",
       "      <td>흠...포스터보고 초딩영화줄....오버연기조차 가볍지 않구나</td>\n",
       "      <td>1</td>\n",
       "    </tr>\n",
       "    <tr>\n",
       "      <th>2</th>\n",
       "      <td>10265843</td>\n",
       "      <td>너무재밓었다그래서보는것을추천한다</td>\n",
       "      <td>0</td>\n",
       "    </tr>\n",
       "    <tr>\n",
       "      <th>3</th>\n",
       "      <td>9045019</td>\n",
       "      <td>교도소 이야기구먼 ..솔직히 재미는 없다..평점 조정</td>\n",
       "      <td>0</td>\n",
       "    </tr>\n",
       "    <tr>\n",
       "      <th>4</th>\n",
       "      <td>6483659</td>\n",
       "      <td>사이몬페그의 익살스런 연기가 돋보였던 영화!스파이더맨에서 늙어보이기만 했던 커스틴 ...</td>\n",
       "      <td>1</td>\n",
       "    </tr>\n",
       "  </tbody>\n",
       "</table>\n",
       "</div>\n",
       "    <div class=\"colab-df-buttons\">\n",
       "\n",
       "  <div class=\"colab-df-container\">\n",
       "    <button class=\"colab-df-convert\" onclick=\"convertToInteractive('df-e8268b61-1787-413d-8ca9-a9a228ca63ad')\"\n",
       "            title=\"Convert this dataframe to an interactive table.\"\n",
       "            style=\"display:none;\">\n",
       "\n",
       "  <svg xmlns=\"http://www.w3.org/2000/svg\" height=\"24px\" viewBox=\"0 -960 960 960\">\n",
       "    <path d=\"M120-120v-720h720v720H120Zm60-500h600v-160H180v160Zm220 220h160v-160H400v160Zm0 220h160v-160H400v160ZM180-400h160v-160H180v160Zm440 0h160v-160H620v160ZM180-180h160v-160H180v160Zm440 0h160v-160H620v160Z\"/>\n",
       "  </svg>\n",
       "    </button>\n",
       "\n",
       "  <style>\n",
       "    .colab-df-container {\n",
       "      display:flex;\n",
       "      gap: 12px;\n",
       "    }\n",
       "\n",
       "    .colab-df-convert {\n",
       "      background-color: #E8F0FE;\n",
       "      border: none;\n",
       "      border-radius: 50%;\n",
       "      cursor: pointer;\n",
       "      display: none;\n",
       "      fill: #1967D2;\n",
       "      height: 32px;\n",
       "      padding: 0 0 0 0;\n",
       "      width: 32px;\n",
       "    }\n",
       "\n",
       "    .colab-df-convert:hover {\n",
       "      background-color: #E2EBFA;\n",
       "      box-shadow: 0px 1px 2px rgba(60, 64, 67, 0.3), 0px 1px 3px 1px rgba(60, 64, 67, 0.15);\n",
       "      fill: #174EA6;\n",
       "    }\n",
       "\n",
       "    .colab-df-buttons div {\n",
       "      margin-bottom: 4px;\n",
       "    }\n",
       "\n",
       "    [theme=dark] .colab-df-convert {\n",
       "      background-color: #3B4455;\n",
       "      fill: #D2E3FC;\n",
       "    }\n",
       "\n",
       "    [theme=dark] .colab-df-convert:hover {\n",
       "      background-color: #434B5C;\n",
       "      box-shadow: 0px 1px 3px 1px rgba(0, 0, 0, 0.15);\n",
       "      filter: drop-shadow(0px 1px 2px rgba(0, 0, 0, 0.3));\n",
       "      fill: #FFFFFF;\n",
       "    }\n",
       "  </style>\n",
       "\n",
       "    <script>\n",
       "      const buttonEl =\n",
       "        document.querySelector('#df-e8268b61-1787-413d-8ca9-a9a228ca63ad button.colab-df-convert');\n",
       "      buttonEl.style.display =\n",
       "        google.colab.kernel.accessAllowed ? 'block' : 'none';\n",
       "\n",
       "      async function convertToInteractive(key) {\n",
       "        const element = document.querySelector('#df-e8268b61-1787-413d-8ca9-a9a228ca63ad');\n",
       "        const dataTable =\n",
       "          await google.colab.kernel.invokeFunction('convertToInteractive',\n",
       "                                                    [key], {});\n",
       "        if (!dataTable) return;\n",
       "\n",
       "        const docLinkHtml = 'Like what you see? Visit the ' +\n",
       "          '<a target=\"_blank\" href=https://colab.research.google.com/notebooks/data_table.ipynb>data table notebook</a>'\n",
       "          + ' to learn more about interactive tables.';\n",
       "        element.innerHTML = '';\n",
       "        dataTable['output_type'] = 'display_data';\n",
       "        await google.colab.output.renderOutput(dataTable, element);\n",
       "        const docLink = document.createElement('div');\n",
       "        docLink.innerHTML = docLinkHtml;\n",
       "        element.appendChild(docLink);\n",
       "      }\n",
       "    </script>\n",
       "  </div>\n",
       "\n",
       "\n",
       "<div id=\"df-3c2788f8-4dfe-4b2f-9ab8-5a44680e0b94\">\n",
       "  <button class=\"colab-df-quickchart\" onclick=\"quickchart('df-3c2788f8-4dfe-4b2f-9ab8-5a44680e0b94')\"\n",
       "            title=\"Suggest charts\"\n",
       "            style=\"display:none;\">\n",
       "\n",
       "<svg xmlns=\"http://www.w3.org/2000/svg\" height=\"24px\"viewBox=\"0 0 24 24\"\n",
       "     width=\"24px\">\n",
       "    <g>\n",
       "        <path d=\"M19 3H5c-1.1 0-2 .9-2 2v14c0 1.1.9 2 2 2h14c1.1 0 2-.9 2-2V5c0-1.1-.9-2-2-2zM9 17H7v-7h2v7zm4 0h-2V7h2v10zm4 0h-2v-4h2v4z\"/>\n",
       "    </g>\n",
       "</svg>\n",
       "  </button>\n",
       "\n",
       "<style>\n",
       "  .colab-df-quickchart {\n",
       "      --bg-color: #E8F0FE;\n",
       "      --fill-color: #1967D2;\n",
       "      --hover-bg-color: #E2EBFA;\n",
       "      --hover-fill-color: #174EA6;\n",
       "      --disabled-fill-color: #AAA;\n",
       "      --disabled-bg-color: #DDD;\n",
       "  }\n",
       "\n",
       "  [theme=dark] .colab-df-quickchart {\n",
       "      --bg-color: #3B4455;\n",
       "      --fill-color: #D2E3FC;\n",
       "      --hover-bg-color: #434B5C;\n",
       "      --hover-fill-color: #FFFFFF;\n",
       "      --disabled-bg-color: #3B4455;\n",
       "      --disabled-fill-color: #666;\n",
       "  }\n",
       "\n",
       "  .colab-df-quickchart {\n",
       "    background-color: var(--bg-color);\n",
       "    border: none;\n",
       "    border-radius: 50%;\n",
       "    cursor: pointer;\n",
       "    display: none;\n",
       "    fill: var(--fill-color);\n",
       "    height: 32px;\n",
       "    padding: 0;\n",
       "    width: 32px;\n",
       "  }\n",
       "\n",
       "  .colab-df-quickchart:hover {\n",
       "    background-color: var(--hover-bg-color);\n",
       "    box-shadow: 0 1px 2px rgba(60, 64, 67, 0.3), 0 1px 3px 1px rgba(60, 64, 67, 0.15);\n",
       "    fill: var(--button-hover-fill-color);\n",
       "  }\n",
       "\n",
       "  .colab-df-quickchart-complete:disabled,\n",
       "  .colab-df-quickchart-complete:disabled:hover {\n",
       "    background-color: var(--disabled-bg-color);\n",
       "    fill: var(--disabled-fill-color);\n",
       "    box-shadow: none;\n",
       "  }\n",
       "\n",
       "  .colab-df-spinner {\n",
       "    border: 2px solid var(--fill-color);\n",
       "    border-color: transparent;\n",
       "    border-bottom-color: var(--fill-color);\n",
       "    animation:\n",
       "      spin 1s steps(1) infinite;\n",
       "  }\n",
       "\n",
       "  @keyframes spin {\n",
       "    0% {\n",
       "      border-color: transparent;\n",
       "      border-bottom-color: var(--fill-color);\n",
       "      border-left-color: var(--fill-color);\n",
       "    }\n",
       "    20% {\n",
       "      border-color: transparent;\n",
       "      border-left-color: var(--fill-color);\n",
       "      border-top-color: var(--fill-color);\n",
       "    }\n",
       "    30% {\n",
       "      border-color: transparent;\n",
       "      border-left-color: var(--fill-color);\n",
       "      border-top-color: var(--fill-color);\n",
       "      border-right-color: var(--fill-color);\n",
       "    }\n",
       "    40% {\n",
       "      border-color: transparent;\n",
       "      border-right-color: var(--fill-color);\n",
       "      border-top-color: var(--fill-color);\n",
       "    }\n",
       "    60% {\n",
       "      border-color: transparent;\n",
       "      border-right-color: var(--fill-color);\n",
       "    }\n",
       "    80% {\n",
       "      border-color: transparent;\n",
       "      border-right-color: var(--fill-color);\n",
       "      border-bottom-color: var(--fill-color);\n",
       "    }\n",
       "    90% {\n",
       "      border-color: transparent;\n",
       "      border-bottom-color: var(--fill-color);\n",
       "    }\n",
       "  }\n",
       "</style>\n",
       "\n",
       "  <script>\n",
       "    async function quickchart(key) {\n",
       "      const quickchartButtonEl =\n",
       "        document.querySelector('#' + key + ' button');\n",
       "      quickchartButtonEl.disabled = true;  // To prevent multiple clicks.\n",
       "      quickchartButtonEl.classList.add('colab-df-spinner');\n",
       "      try {\n",
       "        const charts = await google.colab.kernel.invokeFunction(\n",
       "            'suggestCharts', [key], {});\n",
       "      } catch (error) {\n",
       "        console.error('Error during call to suggestCharts:', error);\n",
       "      }\n",
       "      quickchartButtonEl.classList.remove('colab-df-spinner');\n",
       "      quickchartButtonEl.classList.add('colab-df-quickchart-complete');\n",
       "    }\n",
       "    (() => {\n",
       "      let quickchartButtonEl =\n",
       "        document.querySelector('#df-3c2788f8-4dfe-4b2f-9ab8-5a44680e0b94 button');\n",
       "      quickchartButtonEl.style.display =\n",
       "        google.colab.kernel.accessAllowed ? 'block' : 'none';\n",
       "    })();\n",
       "  </script>\n",
       "</div>\n",
       "\n",
       "    </div>\n",
       "  </div>\n"
      ],
      "text/plain": [
       "         id                                           document  label\n",
       "0   9976970                                아 더빙.. 진짜 짜증나네요 목소리      0\n",
       "1   3819312                  흠...포스터보고 초딩영화줄....오버연기조차 가볍지 않구나      1\n",
       "2  10265843                                  너무재밓었다그래서보는것을추천한다      0\n",
       "3   9045019                      교도소 이야기구먼 ..솔직히 재미는 없다..평점 조정      0\n",
       "4   6483659  사이몬페그의 익살스런 연기가 돋보였던 영화!스파이더맨에서 늙어보이기만 했던 커스틴 ...      1"
      ]
     },
     "execution_count": 109,
     "metadata": {},
     "output_type": "execute_result"
    }
   ],
   "source": [
    "train_data.head()"
   ]
  },
  {
   "cell_type": "markdown",
   "metadata": {
    "id": "T9HahQN-GDqL"
   },
   "source": [
    "# 데이터 전처리"
   ]
  },
  {
   "cell_type": "code",
   "execution_count": 110,
   "metadata": {
    "colab": {
     "base_uri": "https://localhost:8080/"
    },
    "executionInfo": {
     "elapsed": 4,
     "status": "ok",
     "timestamp": 1705977451499,
     "user": {
      "displayName": "ccc flkwerkdai",
      "userId": "13507850890638580947"
     },
     "user_tz": -540
    },
    "id": "nVaq7cs0LWz9",
    "outputId": "5c853649-b9d5-4b84-d74e-caf5074ed84e"
   },
   "outputs": [
    {
     "name": "stdout",
     "output_type": "stream",
     "text": [
      "<class 'pandas.core.frame.DataFrame'>\n",
      "RangeIndex: 150000 entries, 0 to 149999\n",
      "Data columns (total 3 columns):\n",
      " #   Column    Non-Null Count   Dtype \n",
      "---  ------    --------------   ----- \n",
      " 0   id        150000 non-null  int64 \n",
      " 1   document  149995 non-null  object\n",
      " 2   label     150000 non-null  int64 \n",
      "dtypes: int64(2), object(1)\n",
      "memory usage: 3.4+ MB\n"
     ]
    }
   ],
   "source": [
    "train_data.info()"
   ]
  },
  {
   "cell_type": "markdown",
   "metadata": {
    "id": "PKKhdULxLZak"
   },
   "source": [
    "## 0, 결측치 제거"
   ]
  },
  {
   "cell_type": "code",
   "execution_count": 111,
   "metadata": {
    "executionInfo": {
     "elapsed": 3,
     "status": "ok",
     "timestamp": 1705977451499,
     "user": {
      "displayName": "ccc flkwerkdai",
      "userId": "13507850890638580947"
     },
     "user_tz": -540
    },
    "id": "hsBzVxDJLaoi"
   },
   "outputs": [],
   "source": [
    "train_data = train_data.dropna().reset_index(drop=True)"
   ]
  },
  {
   "cell_type": "markdown",
   "metadata": {
    "id": "kjVdskniL0A7"
   },
   "source": [
    "## 1. 특수문자 제거"
   ]
  },
  {
   "cell_type": "code",
   "execution_count": 112,
   "metadata": {
    "executionInfo": {
     "elapsed": 3,
     "status": "ok",
     "timestamp": 1705977451499,
     "user": {
      "displayName": "ccc flkwerkdai",
      "userId": "13507850890638580947"
     },
     "user_tz": -540
    },
    "id": "gdrs8jx6Hsny",
    "tags": []
   },
   "outputs": [],
   "source": [
    "removal_list =  \"‘, ’, ◇, ‘, ”,  ’, ', ·, \\“, ·, △, ●,  , ■, (, ), \\\", >>, `, /, #, ∼, =,ㆍ<,>, .,?, !,【,】, …, ◆,%, ₩\"\n",
    "def remove_special(sentence: str = None):\n",
    "\n",
    "    sentence = re.sub(\"[.,\\'\\\"’‘”“!?]\", \"\", sentence)\n",
    "    sentence = re.sub(\"[^ㄱ-ㅎ가-힣a-zA-Z\\\\s]\", \" \", sentence)\n",
    "    sentence = re.sub(\"\\s+\", \" \", sentence)\n",
    "    sentence = sentence.translate(str.maketrans(removal_list, ' '*len(removal_list)))\n",
    "    sentence = sentence.strip()\n",
    "    sentence = sentence.replace('\\n', ' ')\n",
    "\n",
    "    return sentence"
   ]
  },
  {
   "cell_type": "code",
   "execution_count": 113,
   "metadata": {
    "executionInfo": {
     "elapsed": 1927,
     "status": "ok",
     "timestamp": 1705977453423,
     "user": {
      "displayName": "ccc flkwerkdai",
      "userId": "13507850890638580947"
     },
     "user_tz": -540
    },
    "id": "aHzx0DZYHsny",
    "tags": []
   },
   "outputs": [],
   "source": [
    "train_data[\"특수문자제거\"] = [remove_special(i) for i in train_data[\"document\"]]"
   ]
  },
  {
   "cell_type": "markdown",
   "metadata": {
    "id": "o64yZoziHsny"
   },
   "source": [
    "## 2. 단어 분리"
   ]
  },
  {
   "cell_type": "code",
   "execution_count": 114,
   "metadata": {
    "colab": {
     "base_uri": "https://localhost:8080/"
    },
    "executionInfo": {
     "elapsed": 48426,
     "status": "ok",
     "timestamp": 1705977501847,
     "user": {
      "displayName": "ccc flkwerkdai",
      "userId": "13507850890638580947"
     },
     "user_tz": -540
    },
    "id": "1vbBCGaZHsny",
    "outputId": "557e4c9d-adcc-44ef-e8ab-98e272068ca4",
    "tags": []
   },
   "outputs": [
    {
     "name": "stdout",
     "output_type": "stream",
     "text": [
      "0            [아, 더빙, 진짜, 짜증나네요, 목소리]\n",
      "1    [흠포스터보고, 초딩영화줄오버연기조차, 가볍지, 않구나]\n",
      "Name: 단어분리, dtype: object\n"
     ]
    }
   ],
   "source": [
    "train_data[\"단어분리\"]= [i.split() for i in train_data[\"특수문자제거\"]]\n",
    "print(train_data[\"단어분리\"][:2])"
   ]
  },
  {
   "cell_type": "markdown",
   "metadata": {
    "id": "9ZrgfWcOHsnz"
   },
   "source": [
    "## 3. 불용어제거"
   ]
  },
  {
   "cell_type": "code",
   "execution_count": 115,
   "metadata": {
    "executionInfo": {
     "elapsed": 3,
     "status": "ok",
     "timestamp": 1705977501847,
     "user": {
      "displayName": "ccc flkwerkdai",
      "userId": "13507850890638580947"
     },
     "user_tz": -540
    },
    "id": "w2EtdphrHsnz",
    "tags": []
   },
   "outputs": [],
   "source": [
    "def remove_stopword(sent):\n",
    "    stopwords = ['의','가','이','은','들','는','좀','잘','걍','과','도','를','을','으로','자','에','와','한','이', '로', '에서', '하는', '하면', '하고', '요', '혹시', '합니다', '감사합니다', '안녕하세요']\n",
    "    removed = [word for word in sent if not word in stopwords] # 불용어 제거\n",
    "    return removed"
   ]
  },
  {
   "cell_type": "code",
   "execution_count": 116,
   "metadata": {
    "colab": {
     "base_uri": "https://localhost:8080/"
    },
    "executionInfo": {
     "elapsed": 773,
     "status": "ok",
     "timestamp": 1705977502617,
     "user": {
      "displayName": "ccc flkwerkdai",
      "userId": "13507850890638580947"
     },
     "user_tz": -540
    },
    "id": "s4Pf9IaTHsnz",
    "outputId": "acb6ff4b-c640-4fa7-931b-fcdbe086dc5b",
    "tags": []
   },
   "outputs": [
    {
     "data": {
      "text/plain": [
       "0                              [아, 더빙, 진짜, 짜증나네요, 목소리]\n",
       "1                      [흠포스터보고, 초딩영화줄오버연기조차, 가볍지, 않구나]\n",
       "2                                  [너무재밓었다그래서보는것을추천한다]\n",
       "3                     [교도소, 이야기구먼, 솔직히, 재미는, 없다평점, 조정]\n",
       "4    [사이몬페그의, 익살스런, 연기가, 돋보였던, 영화스파이더맨에서, 늙어보이기만, 했...\n",
       "Name: 불용어제거, dtype: object"
      ]
     },
     "execution_count": 116,
     "metadata": {},
     "output_type": "execute_result"
    }
   ],
   "source": [
    "train_data[\"불용어제거\"] = [remove_stopword(i) for i in train_data[\"단어분리\"]]\n",
    "train_data[\"불용어제거\"].head()"
   ]
  },
  {
   "cell_type": "markdown",
   "metadata": {
    "id": "np6r8E-2Hsnz"
   },
   "source": [
    "## 4. 한글자 단어 제거"
   ]
  },
  {
   "cell_type": "code",
   "execution_count": 117,
   "metadata": {
    "colab": {
     "base_uri": "https://localhost:8080/"
    },
    "executionInfo": {
     "elapsed": 1105,
     "status": "ok",
     "timestamp": 1705977503720,
     "user": {
      "displayName": "ccc flkwerkdai",
      "userId": "13507850890638580947"
     },
     "user_tz": -540
    },
    "id": "xKI-4VxVHsnz",
    "outputId": "af14ea1c-340c-43e9-8823-63b7b7ae96ab",
    "tags": []
   },
   "outputs": [
    {
     "data": {
      "text/plain": [
       "0                                 [더빙, 진짜, 짜증나네요, 목소리]\n",
       "1                      [흠포스터보고, 초딩영화줄오버연기조차, 가볍지, 않구나]\n",
       "2                                  [너무재밓었다그래서보는것을추천한다]\n",
       "3                     [교도소, 이야기구먼, 솔직히, 재미는, 없다평점, 조정]\n",
       "4    [사이몬페그의, 익살스런, 연기가, 돋보였던, 영화스파이더맨에서, 늙어보이기만, 했...\n",
       "Name: 한글자제거, dtype: object"
      ]
     },
     "execution_count": 117,
     "metadata": {},
     "output_type": "execute_result"
    }
   ],
   "source": [
    "train_data[\"한글자제거\"] = [[j for j in i if len(j) >=2 ] for i in train_data[\"불용어제거\"]]\n",
    "train_data[\"한글자제거\"][:5]"
   ]
  },
  {
   "cell_type": "markdown",
   "metadata": {
    "id": "QG0PUsVFHsnz"
   },
   "source": [
    "## 5. 문장 단어 개수 측정"
   ]
  },
  {
   "cell_type": "code",
   "execution_count": 118,
   "metadata": {
    "executionInfo": {
     "elapsed": 6,
     "status": "ok",
     "timestamp": 1705977503721,
     "user": {
      "displayName": "ccc flkwerkdai",
      "userId": "13507850890638580947"
     },
     "user_tz": -540
    },
    "id": "p_JruO_AHsnz",
    "tags": []
   },
   "outputs": [],
   "source": [
    "cleansing_length =[len(i) for i in train_data[\"한글자제거\"]]\n",
    "train_data[\"cleansing_length\"] = cleansing_length"
   ]
  },
  {
   "cell_type": "code",
   "execution_count": 119,
   "metadata": {
    "colab": {
     "base_uri": "https://localhost:8080/"
    },
    "executionInfo": {
     "elapsed": 6,
     "status": "ok",
     "timestamp": 1705977503721,
     "user": {
      "displayName": "ccc flkwerkdai",
      "userId": "13507850890638580947"
     },
     "user_tz": -540
    },
    "id": "ODyp4PN0Hsnz",
    "outputId": "f93efdc8-011c-41ae-b87b-5d0e791106ee",
    "tags": []
   },
   "outputs": [
    {
     "data": {
      "text/plain": [
       "count    149995.000000\n",
       "mean          6.995107\n",
       "std           6.025118\n",
       "min           0.000000\n",
       "25%           3.000000\n",
       "50%           5.000000\n",
       "75%           9.000000\n",
       "max          47.000000\n",
       "Name: cleansing_length, dtype: float64"
      ]
     },
     "execution_count": 119,
     "metadata": {},
     "output_type": "execute_result"
    }
   ],
   "source": [
    "train_data.cleansing_length.describe()"
   ]
  },
  {
   "cell_type": "markdown",
   "metadata": {
    "id": "rIbkddUmHsn0"
   },
   "source": [
    "`-` 패딩을 위해 상한선 설정"
   ]
  },
  {
   "cell_type": "code",
   "execution_count": 120,
   "metadata": {
    "colab": {
     "base_uri": "https://localhost:8080/"
    },
    "executionInfo": {
     "elapsed": 4,
     "status": "ok",
     "timestamp": 1705977503721,
     "user": {
      "displayName": "ccc flkwerkdai",
      "userId": "13507850890638580947"
     },
     "user_tz": -540
    },
    "id": "1mwsmsHSHsn0",
    "outputId": "dbb8a120-9db0-4f20-b19d-ff549dfff28f"
   },
   "outputs": [
    {
     "data": {
      "text/plain": [
       "15.0"
      ]
     },
     "execution_count": 120,
     "metadata": {},
     "output_type": "execute_result"
    }
   ],
   "source": [
    "max_length = train_data.cleansing_length.quantile(.9)\n",
    "max_length"
   ]
  },
  {
   "cell_type": "markdown",
   "metadata": {
    "id": "ILNwQ_R3Hsn0"
   },
   "source": [
    "# 단어사전 만들기"
   ]
  },
  {
   "cell_type": "markdown",
   "metadata": {
    "id": "Xt1_eX4jHsn0"
   },
   "source": [
    "## 단어 모으기"
   ]
  },
  {
   "cell_type": "code",
   "execution_count": 121,
   "metadata": {
    "colab": {
     "base_uri": "https://localhost:8080/"
    },
    "executionInfo": {
     "elapsed": 3,
     "status": "ok",
     "timestamp": 1705977503721,
     "user": {
      "displayName": "ccc flkwerkdai",
      "userId": "13507850890638580947"
     },
     "user_tz": -540
    },
    "id": "D5dI9eV2Hsn0",
    "outputId": "e7bdd1c9-e874-4ec2-bd08-f8f39f1b4b48",
    "tags": []
   },
   "outputs": [
    {
     "data": {
      "text/plain": [
       "['더빙', '진짜', '짜증나네요', '목소리', '흠포스터보고']"
      ]
     },
     "execution_count": 121,
     "metadata": {},
     "output_type": "execute_result"
    }
   ],
   "source": [
    "word_list  = [j for i in train_data[\"한글자제거\"] for j in i]\n",
    "word_list[:5]"
   ]
  },
  {
   "cell_type": "markdown",
   "metadata": {
    "id": "tFv7dp0UHsn0",
    "tags": []
   },
   "source": [
    "## 전체 단어 빈도 수"
   ]
  },
  {
   "cell_type": "code",
   "execution_count": 122,
   "metadata": {
    "executionInfo": {
     "elapsed": 571,
     "status": "ok",
     "timestamp": 1705977504290,
     "user": {
      "displayName": "ccc flkwerkdai",
      "userId": "13507850890638580947"
     },
     "user_tz": -540
    },
    "id": "6C91yxV2Hsn0",
    "tags": []
   },
   "outputs": [],
   "source": [
    "import collections\n",
    "\n",
    "word_count = collections.Counter(word_list)\n",
    "# word_count.most_common()"
   ]
  },
  {
   "cell_type": "markdown",
   "metadata": {
    "id": "qTiR88lqHsn0"
   },
   "source": [
    "## 전체 단어 빈도수 및 합계 확인하기"
   ]
  },
  {
   "cell_type": "code",
   "execution_count": 123,
   "metadata": {
    "colab": {
     "base_uri": "https://localhost:8080/"
    },
    "executionInfo": {
     "elapsed": 5,
     "status": "ok",
     "timestamp": 1705977504290,
     "user": {
      "displayName": "ccc flkwerkdai",
      "userId": "13507850890638580947"
     },
     "user_tz": -540
    },
    "id": "vRX5HE5QHsn0",
    "outputId": "53ba2b23-1159-4a01-cdcd-8c712e49a06f",
    "tags": []
   },
   "outputs": [
    {
     "data": {
      "text/plain": [
       "(298569, 1049231)"
      ]
     },
     "execution_count": 123,
     "metadata": {},
     "output_type": "execute_result"
    }
   ],
   "source": [
    "word_frequency = word_count.values()\n",
    "total_word = len(set(word_list))\n",
    "total_frequency_sum = sum(word_count.values())\n",
    "\n",
    "total_word, total_frequency_sum"
   ]
  },
  {
   "cell_type": "markdown",
   "metadata": {
    "id": "CpHiXRcRHsn0"
   },
   "source": [
    "## 회귀 단어 빈도수 및 합계 확인하기"
   ]
  },
  {
   "cell_type": "code",
   "execution_count": 124,
   "metadata": {
    "colab": {
     "base_uri": "https://localhost:8080/"
    },
    "executionInfo": {
     "elapsed": 5,
     "status": "ok",
     "timestamp": 1705977504290,
     "user": {
      "displayName": "ccc flkwerkdai",
      "userId": "13507850890638580947"
     },
     "user_tz": -540
    },
    "id": "S6u3EaviHsn0",
    "outputId": "16b603b4-b819-4596-df0f-0206ad0c9cbc",
    "tags": []
   },
   "outputs": [
    {
     "data": {
      "text/plain": [
       "(230637, 230637)"
      ]
     },
     "execution_count": 124,
     "metadata": {},
     "output_type": "execute_result"
    }
   ],
   "source": [
    "rare_frequency = { i : j  for i,j in word_count.items() if j ==1}\n",
    "rare_count = len(rare_frequency)\n",
    "rare_frequency_sum = sum(rare_frequency.values())\n",
    "\n",
    "rare_count, rare_frequency_sum"
   ]
  },
  {
   "cell_type": "code",
   "execution_count": 125,
   "metadata": {
    "colab": {
     "base_uri": "https://localhost:8080/"
    },
    "executionInfo": {
     "elapsed": 4,
     "status": "ok",
     "timestamp": 1705977504290,
     "user": {
      "displayName": "ccc flkwerkdai",
      "userId": "13507850890638580947"
     },
     "user_tz": -540
    },
    "id": "7YWYRgy8Hsn1",
    "outputId": "a85dd507-7757-43fb-c9bf-93315caec036",
    "tags": []
   },
   "outputs": [
    {
     "name": "stdout",
     "output_type": "stream",
     "text": [
      "클렌징 데이터의 전체 단어 수:  298569\n",
      "데이터 내 전체 희귀 단어수:  230637\n",
      "\n",
      "\n",
      "데이터의 전체 단어의 빈도 수 합:  1049231\n",
      "데이터 내 전체 희귀 단어의 빈도 수 합:  230637\n",
      "전체 단어에서 희귀 단어가 차지하는 비율:  0.2198152742341772\n"
     ]
    }
   ],
   "source": [
    "rare_count_percent = rare_count/total_word\n",
    "rare_frequency_percent = rare_frequency_sum/total_frequency_sum\n",
    "\n",
    "\n",
    "print(\"클렌징 데이터의 전체 단어 수: \", total_word)\n",
    "print(\"데이터 내 전체 희귀 단어수: \",  rare_count)\n",
    "print(\"\\n\")\n",
    "print(\"데이터의 전체 단어의 빈도 수 합: \",  total_frequency_sum )\n",
    "print(\"데이터 내 전체 희귀 단어의 빈도 수 합: \",   rare_frequency_sum)\n",
    "print(\"전체 단어에서 희귀 단어가 차지하는 비율: \",  rare_frequency_percent)"
   ]
  },
  {
   "cell_type": "markdown",
   "metadata": {
    "id": "vMw_lAskHsn1"
   },
   "source": [
    "## 단어사전 크기 정하기"
   ]
  },
  {
   "cell_type": "code",
   "execution_count": 126,
   "metadata": {
    "colab": {
     "base_uri": "https://localhost:8080/"
    },
    "executionInfo": {
     "elapsed": 3,
     "status": "ok",
     "timestamp": 1705977504290,
     "user": {
      "displayName": "ccc flkwerkdai",
      "userId": "13507850890638580947"
     },
     "user_tz": -540
    },
    "id": "IcmpsSS6Hsn1",
    "outputId": "c405574f-17a6-4905-f19f-f13255415435",
    "tags": []
   },
   "outputs": [
    {
     "data": {
      "text/plain": [
       "67932"
      ]
     },
     "execution_count": 126,
     "metadata": {},
     "output_type": "execute_result"
    }
   ],
   "source": [
    "vocab_size = total_word-rare_count\n",
    "vocab_size"
   ]
  },
  {
   "cell_type": "markdown",
   "metadata": {
    "id": "fo0sIL8dHsn1"
   },
   "source": [
    "## 단어사전 인덱스 생성(토큰화)"
   ]
  },
  {
   "cell_type": "code",
   "execution_count": 127,
   "metadata": {
    "colab": {
     "base_uri": "https://localhost:8080/",
     "height": 362
    },
    "executionInfo": {
     "elapsed": 2749,
     "status": "ok",
     "timestamp": 1705977507037,
     "user": {
      "displayName": "ccc flkwerkdai",
      "userId": "13507850890638580947"
     },
     "user_tz": -540
    },
    "id": "d9_5j8AwHsn1",
    "outputId": "d9ee3472-02dd-4250-c471-c89f69be349c",
    "tags": []
   },
   "outputs": [
    {
     "data": {
      "text/html": [
       "\n",
       "  <div id=\"df-513ed43f-0181-45a3-a798-32daf7eec0a4\" class=\"colab-df-container\">\n",
       "    <div>\n",
       "<style scoped>\n",
       "    .dataframe tbody tr th:only-of-type {\n",
       "        vertical-align: middle;\n",
       "    }\n",
       "\n",
       "    .dataframe tbody tr th {\n",
       "        vertical-align: top;\n",
       "    }\n",
       "\n",
       "    .dataframe thead th {\n",
       "        text-align: right;\n",
       "    }\n",
       "</style>\n",
       "<table border=\"1\" class=\"dataframe\">\n",
       "  <thead>\n",
       "    <tr style=\"text-align: right;\">\n",
       "      <th></th>\n",
       "      <th>id</th>\n",
       "      <th>document</th>\n",
       "      <th>label</th>\n",
       "      <th>특수문자제거</th>\n",
       "      <th>단어분리</th>\n",
       "      <th>불용어제거</th>\n",
       "      <th>한글자제거</th>\n",
       "      <th>cleansing_length</th>\n",
       "      <th>토큰화</th>\n",
       "    </tr>\n",
       "  </thead>\n",
       "  <tbody>\n",
       "    <tr>\n",
       "      <th>0</th>\n",
       "      <td>9976970</td>\n",
       "      <td>아 더빙.. 진짜 짜증나네요 목소리</td>\n",
       "      <td>0</td>\n",
       "      <td>아 더빙 진짜 짜증나네요 목소리</td>\n",
       "      <td>[아, 더빙, 진짜, 짜증나네요, 목소리]</td>\n",
       "      <td>[아, 더빙, 진짜, 짜증나네요, 목소리]</td>\n",
       "      <td>[더빙, 진짜, 짜증나네요, 목소리]</td>\n",
       "      <td>4</td>\n",
       "      <td>[816, 4, 6472, 983]</td>\n",
       "    </tr>\n",
       "    <tr>\n",
       "      <th>1</th>\n",
       "      <td>3819312</td>\n",
       "      <td>흠...포스터보고 초딩영화줄....오버연기조차 가볍지 않구나</td>\n",
       "      <td>1</td>\n",
       "      <td>흠포스터보고 초딩영화줄오버연기조차 가볍지 않구나</td>\n",
       "      <td>[흠포스터보고, 초딩영화줄오버연기조차, 가볍지, 않구나]</td>\n",
       "      <td>[흠포스터보고, 초딩영화줄오버연기조차, 가볍지, 않구나]</td>\n",
       "      <td>[흠포스터보고, 초딩영화줄오버연기조차, 가볍지, 않구나]</td>\n",
       "      <td>4</td>\n",
       "      <td>[67876, 67877, 6473, 40413]</td>\n",
       "    </tr>\n",
       "    <tr>\n",
       "      <th>2</th>\n",
       "      <td>10265843</td>\n",
       "      <td>너무재밓었다그래서보는것을추천한다</td>\n",
       "      <td>0</td>\n",
       "      <td>너무재밓었다그래서보는것을추천한다</td>\n",
       "      <td>[너무재밓었다그래서보는것을추천한다]</td>\n",
       "      <td>[너무재밓었다그래서보는것을추천한다]</td>\n",
       "      <td>[너무재밓었다그래서보는것을추천한다]</td>\n",
       "      <td>1</td>\n",
       "      <td>[67878]</td>\n",
       "    </tr>\n",
       "    <tr>\n",
       "      <th>3</th>\n",
       "      <td>9045019</td>\n",
       "      <td>교도소 이야기구먼 ..솔직히 재미는 없다..평점 조정</td>\n",
       "      <td>0</td>\n",
       "      <td>교도소 이야기구먼 솔직히 재미는 없다평점 조정</td>\n",
       "      <td>[교도소, 이야기구먼, 솔직히, 재미는, 없다평점, 조정]</td>\n",
       "      <td>[교도소, 이야기구먼, 솔직히, 재미는, 없다평점, 조정]</td>\n",
       "      <td>[교도소, 이야기구먼, 솔직히, 재미는, 없다평점, 조정]</td>\n",
       "      <td>6</td>\n",
       "      <td>[23198, 67879, 48, 304, 67880, 9568]</td>\n",
       "    </tr>\n",
       "    <tr>\n",
       "      <th>4</th>\n",
       "      <td>6483659</td>\n",
       "      <td>사이몬페그의 익살스런 연기가 돋보였던 영화!스파이더맨에서 늙어보이기만 했던 커스틴 ...</td>\n",
       "      <td>1</td>\n",
       "      <td>사이몬페그의 익살스런 연기가 돋보였던 영화스파이더맨에서 늙어보이기만 했던 커스틴 던...</td>\n",
       "      <td>[사이몬페그의, 익살스런, 연기가, 돋보였던, 영화스파이더맨에서, 늙어보이기만, 했...</td>\n",
       "      <td>[사이몬페그의, 익살스런, 연기가, 돋보였던, 영화스파이더맨에서, 늙어보이기만, 했...</td>\n",
       "      <td>[사이몬페그의, 익살스런, 연기가, 돋보였던, 영화스파이더맨에서, 늙어보이기만, 했...</td>\n",
       "      <td>11</td>\n",
       "      <td>[67881, 40414, 75, 4839, 67882, 67883, 735, 23...</td>\n",
       "    </tr>\n",
       "  </tbody>\n",
       "</table>\n",
       "</div>\n",
       "    <div class=\"colab-df-buttons\">\n",
       "\n",
       "  <div class=\"colab-df-container\">\n",
       "    <button class=\"colab-df-convert\" onclick=\"convertToInteractive('df-513ed43f-0181-45a3-a798-32daf7eec0a4')\"\n",
       "            title=\"Convert this dataframe to an interactive table.\"\n",
       "            style=\"display:none;\">\n",
       "\n",
       "  <svg xmlns=\"http://www.w3.org/2000/svg\" height=\"24px\" viewBox=\"0 -960 960 960\">\n",
       "    <path d=\"M120-120v-720h720v720H120Zm60-500h600v-160H180v160Zm220 220h160v-160H400v160Zm0 220h160v-160H400v160ZM180-400h160v-160H180v160Zm440 0h160v-160H620v160ZM180-180h160v-160H180v160Zm440 0h160v-160H620v160Z\"/>\n",
       "  </svg>\n",
       "    </button>\n",
       "\n",
       "  <style>\n",
       "    .colab-df-container {\n",
       "      display:flex;\n",
       "      gap: 12px;\n",
       "    }\n",
       "\n",
       "    .colab-df-convert {\n",
       "      background-color: #E8F0FE;\n",
       "      border: none;\n",
       "      border-radius: 50%;\n",
       "      cursor: pointer;\n",
       "      display: none;\n",
       "      fill: #1967D2;\n",
       "      height: 32px;\n",
       "      padding: 0 0 0 0;\n",
       "      width: 32px;\n",
       "    }\n",
       "\n",
       "    .colab-df-convert:hover {\n",
       "      background-color: #E2EBFA;\n",
       "      box-shadow: 0px 1px 2px rgba(60, 64, 67, 0.3), 0px 1px 3px 1px rgba(60, 64, 67, 0.15);\n",
       "      fill: #174EA6;\n",
       "    }\n",
       "\n",
       "    .colab-df-buttons div {\n",
       "      margin-bottom: 4px;\n",
       "    }\n",
       "\n",
       "    [theme=dark] .colab-df-convert {\n",
       "      background-color: #3B4455;\n",
       "      fill: #D2E3FC;\n",
       "    }\n",
       "\n",
       "    [theme=dark] .colab-df-convert:hover {\n",
       "      background-color: #434B5C;\n",
       "      box-shadow: 0px 1px 3px 1px rgba(0, 0, 0, 0.15);\n",
       "      filter: drop-shadow(0px 1px 2px rgba(0, 0, 0, 0.3));\n",
       "      fill: #FFFFFF;\n",
       "    }\n",
       "  </style>\n",
       "\n",
       "    <script>\n",
       "      const buttonEl =\n",
       "        document.querySelector('#df-513ed43f-0181-45a3-a798-32daf7eec0a4 button.colab-df-convert');\n",
       "      buttonEl.style.display =\n",
       "        google.colab.kernel.accessAllowed ? 'block' : 'none';\n",
       "\n",
       "      async function convertToInteractive(key) {\n",
       "        const element = document.querySelector('#df-513ed43f-0181-45a3-a798-32daf7eec0a4');\n",
       "        const dataTable =\n",
       "          await google.colab.kernel.invokeFunction('convertToInteractive',\n",
       "                                                    [key], {});\n",
       "        if (!dataTable) return;\n",
       "\n",
       "        const docLinkHtml = 'Like what you see? Visit the ' +\n",
       "          '<a target=\"_blank\" href=https://colab.research.google.com/notebooks/data_table.ipynb>data table notebook</a>'\n",
       "          + ' to learn more about interactive tables.';\n",
       "        element.innerHTML = '';\n",
       "        dataTable['output_type'] = 'display_data';\n",
       "        await google.colab.output.renderOutput(dataTable, element);\n",
       "        const docLink = document.createElement('div');\n",
       "        docLink.innerHTML = docLinkHtml;\n",
       "        element.appendChild(docLink);\n",
       "      }\n",
       "    </script>\n",
       "  </div>\n",
       "\n",
       "\n",
       "<div id=\"df-ac5e616c-a597-45ea-bc85-1414a73146fd\">\n",
       "  <button class=\"colab-df-quickchart\" onclick=\"quickchart('df-ac5e616c-a597-45ea-bc85-1414a73146fd')\"\n",
       "            title=\"Suggest charts\"\n",
       "            style=\"display:none;\">\n",
       "\n",
       "<svg xmlns=\"http://www.w3.org/2000/svg\" height=\"24px\"viewBox=\"0 0 24 24\"\n",
       "     width=\"24px\">\n",
       "    <g>\n",
       "        <path d=\"M19 3H5c-1.1 0-2 .9-2 2v14c0 1.1.9 2 2 2h14c1.1 0 2-.9 2-2V5c0-1.1-.9-2-2-2zM9 17H7v-7h2v7zm4 0h-2V7h2v10zm4 0h-2v-4h2v4z\"/>\n",
       "    </g>\n",
       "</svg>\n",
       "  </button>\n",
       "\n",
       "<style>\n",
       "  .colab-df-quickchart {\n",
       "      --bg-color: #E8F0FE;\n",
       "      --fill-color: #1967D2;\n",
       "      --hover-bg-color: #E2EBFA;\n",
       "      --hover-fill-color: #174EA6;\n",
       "      --disabled-fill-color: #AAA;\n",
       "      --disabled-bg-color: #DDD;\n",
       "  }\n",
       "\n",
       "  [theme=dark] .colab-df-quickchart {\n",
       "      --bg-color: #3B4455;\n",
       "      --fill-color: #D2E3FC;\n",
       "      --hover-bg-color: #434B5C;\n",
       "      --hover-fill-color: #FFFFFF;\n",
       "      --disabled-bg-color: #3B4455;\n",
       "      --disabled-fill-color: #666;\n",
       "  }\n",
       "\n",
       "  .colab-df-quickchart {\n",
       "    background-color: var(--bg-color);\n",
       "    border: none;\n",
       "    border-radius: 50%;\n",
       "    cursor: pointer;\n",
       "    display: none;\n",
       "    fill: var(--fill-color);\n",
       "    height: 32px;\n",
       "    padding: 0;\n",
       "    width: 32px;\n",
       "  }\n",
       "\n",
       "  .colab-df-quickchart:hover {\n",
       "    background-color: var(--hover-bg-color);\n",
       "    box-shadow: 0 1px 2px rgba(60, 64, 67, 0.3), 0 1px 3px 1px rgba(60, 64, 67, 0.15);\n",
       "    fill: var(--button-hover-fill-color);\n",
       "  }\n",
       "\n",
       "  .colab-df-quickchart-complete:disabled,\n",
       "  .colab-df-quickchart-complete:disabled:hover {\n",
       "    background-color: var(--disabled-bg-color);\n",
       "    fill: var(--disabled-fill-color);\n",
       "    box-shadow: none;\n",
       "  }\n",
       "\n",
       "  .colab-df-spinner {\n",
       "    border: 2px solid var(--fill-color);\n",
       "    border-color: transparent;\n",
       "    border-bottom-color: var(--fill-color);\n",
       "    animation:\n",
       "      spin 1s steps(1) infinite;\n",
       "  }\n",
       "\n",
       "  @keyframes spin {\n",
       "    0% {\n",
       "      border-color: transparent;\n",
       "      border-bottom-color: var(--fill-color);\n",
       "      border-left-color: var(--fill-color);\n",
       "    }\n",
       "    20% {\n",
       "      border-color: transparent;\n",
       "      border-left-color: var(--fill-color);\n",
       "      border-top-color: var(--fill-color);\n",
       "    }\n",
       "    30% {\n",
       "      border-color: transparent;\n",
       "      border-left-color: var(--fill-color);\n",
       "      border-top-color: var(--fill-color);\n",
       "      border-right-color: var(--fill-color);\n",
       "    }\n",
       "    40% {\n",
       "      border-color: transparent;\n",
       "      border-right-color: var(--fill-color);\n",
       "      border-top-color: var(--fill-color);\n",
       "    }\n",
       "    60% {\n",
       "      border-color: transparent;\n",
       "      border-right-color: var(--fill-color);\n",
       "    }\n",
       "    80% {\n",
       "      border-color: transparent;\n",
       "      border-right-color: var(--fill-color);\n",
       "      border-bottom-color: var(--fill-color);\n",
       "    }\n",
       "    90% {\n",
       "      border-color: transparent;\n",
       "      border-bottom-color: var(--fill-color);\n",
       "    }\n",
       "  }\n",
       "</style>\n",
       "\n",
       "  <script>\n",
       "    async function quickchart(key) {\n",
       "      const quickchartButtonEl =\n",
       "        document.querySelector('#' + key + ' button');\n",
       "      quickchartButtonEl.disabled = true;  // To prevent multiple clicks.\n",
       "      quickchartButtonEl.classList.add('colab-df-spinner');\n",
       "      try {\n",
       "        const charts = await google.colab.kernel.invokeFunction(\n",
       "            'suggestCharts', [key], {});\n",
       "      } catch (error) {\n",
       "        console.error('Error during call to suggestCharts:', error);\n",
       "      }\n",
       "      quickchartButtonEl.classList.remove('colab-df-spinner');\n",
       "      quickchartButtonEl.classList.add('colab-df-quickchart-complete');\n",
       "    }\n",
       "    (() => {\n",
       "      let quickchartButtonEl =\n",
       "        document.querySelector('#df-ac5e616c-a597-45ea-bc85-1414a73146fd button');\n",
       "      quickchartButtonEl.style.display =\n",
       "        google.colab.kernel.accessAllowed ? 'block' : 'none';\n",
       "    })();\n",
       "  </script>\n",
       "</div>\n",
       "\n",
       "    </div>\n",
       "  </div>\n"
      ],
      "text/plain": [
       "         id                                           document  label  \\\n",
       "0   9976970                                아 더빙.. 진짜 짜증나네요 목소리      0   \n",
       "1   3819312                  흠...포스터보고 초딩영화줄....오버연기조차 가볍지 않구나      1   \n",
       "2  10265843                                  너무재밓었다그래서보는것을추천한다      0   \n",
       "3   9045019                      교도소 이야기구먼 ..솔직히 재미는 없다..평점 조정      0   \n",
       "4   6483659  사이몬페그의 익살스런 연기가 돋보였던 영화!스파이더맨에서 늙어보이기만 했던 커스틴 ...      1   \n",
       "\n",
       "                                              특수문자제거  \\\n",
       "0                                  아 더빙 진짜 짜증나네요 목소리   \n",
       "1                         흠포스터보고 초딩영화줄오버연기조차 가볍지 않구나   \n",
       "2                                  너무재밓었다그래서보는것을추천한다   \n",
       "3                          교도소 이야기구먼 솔직히 재미는 없다평점 조정   \n",
       "4  사이몬페그의 익살스런 연기가 돋보였던 영화스파이더맨에서 늙어보이기만 했던 커스틴 던...   \n",
       "\n",
       "                                                단어분리  \\\n",
       "0                            [아, 더빙, 진짜, 짜증나네요, 목소리]   \n",
       "1                    [흠포스터보고, 초딩영화줄오버연기조차, 가볍지, 않구나]   \n",
       "2                                [너무재밓었다그래서보는것을추천한다]   \n",
       "3                   [교도소, 이야기구먼, 솔직히, 재미는, 없다평점, 조정]   \n",
       "4  [사이몬페그의, 익살스런, 연기가, 돋보였던, 영화스파이더맨에서, 늙어보이기만, 했...   \n",
       "\n",
       "                                               불용어제거  \\\n",
       "0                            [아, 더빙, 진짜, 짜증나네요, 목소리]   \n",
       "1                    [흠포스터보고, 초딩영화줄오버연기조차, 가볍지, 않구나]   \n",
       "2                                [너무재밓었다그래서보는것을추천한다]   \n",
       "3                   [교도소, 이야기구먼, 솔직히, 재미는, 없다평점, 조정]   \n",
       "4  [사이몬페그의, 익살스런, 연기가, 돋보였던, 영화스파이더맨에서, 늙어보이기만, 했...   \n",
       "\n",
       "                                               한글자제거  cleansing_length  \\\n",
       "0                               [더빙, 진짜, 짜증나네요, 목소리]                 4   \n",
       "1                    [흠포스터보고, 초딩영화줄오버연기조차, 가볍지, 않구나]                 4   \n",
       "2                                [너무재밓었다그래서보는것을추천한다]                 1   \n",
       "3                   [교도소, 이야기구먼, 솔직히, 재미는, 없다평점, 조정]                 6   \n",
       "4  [사이몬페그의, 익살스런, 연기가, 돋보였던, 영화스파이더맨에서, 늙어보이기만, 했...                11   \n",
       "\n",
       "                                                 토큰화  \n",
       "0                                [816, 4, 6472, 983]  \n",
       "1                        [67876, 67877, 6473, 40413]  \n",
       "2                                            [67878]  \n",
       "3               [23198, 67879, 48, 304, 67880, 9568]  \n",
       "4  [67881, 40414, 75, 4839, 67882, 67883, 735, 23...  "
      ]
     },
     "execution_count": 127,
     "metadata": {},
     "output_type": "execute_result"
    }
   ],
   "source": [
    "tokenizer = Tokenizer(num_words = vocab_size)\n",
    "tokenizer.fit_on_texts(train_data[\"한글자제거\"])\n",
    "\n",
    "train_data[\"토큰화\"] = tokenizer.texts_to_sequences(train_data[\"한글자제거\"])\n",
    "train_data.head()"
   ]
  },
  {
   "cell_type": "markdown",
   "metadata": {
    "id": "rs7oK0cJHsn1"
   },
   "source": [
    "# 모델 생성"
   ]
  },
  {
   "cell_type": "markdown",
   "metadata": {
    "id": "WfOfGNTtIXPU"
   },
   "source": [
    "## input 데이터 준비"
   ]
  },
  {
   "cell_type": "code",
   "execution_count": 128,
   "metadata": {
    "executionInfo": {
     "elapsed": 4,
     "status": "ok",
     "timestamp": 1705977507037,
     "user": {
      "displayName": "ccc flkwerkdai",
      "userId": "13507850890638580947"
     },
     "user_tz": -540
    },
    "id": "SIh3kWFKIMXE"
   },
   "outputs": [],
   "source": [
    "import tensorflow as tf"
   ]
  },
  {
   "cell_type": "code",
   "execution_count": 129,
   "metadata": {
    "colab": {
     "base_uri": "https://localhost:8080/"
    },
    "executionInfo": {
     "elapsed": 715,
     "status": "ok",
     "timestamp": 1705977507749,
     "user": {
      "displayName": "ccc flkwerkdai",
      "userId": "13507850890638580947"
     },
     "user_tz": -540
    },
    "id": "xrExCbJ0Hsn1",
    "outputId": "62adbcf4-4bcf-4328-9ed0-9dd40bf9f9cf"
   },
   "outputs": [
    {
     "data": {
      "text/plain": [
       "array([[    0,     0,     0, ...,     4,  6472,   983],\n",
       "       [    0,     0,     0, ..., 67877,  6473, 40413],\n",
       "       [    0,     0,     0, ...,     0,     0, 67878],\n",
       "       ...,\n",
       "       [    0,     0,     0, ..., 21725, 38791, 23154],\n",
       "       [    0,     0,     0, ..., 30887, 66417, 13093],\n",
       "       [    0,     0,     0, ...,   104,  1877,     1]], dtype=int32)"
      ]
     },
     "execution_count": 129,
     "metadata": {},
     "output_type": "execute_result"
    }
   ],
   "source": [
    "y = train_data[\"label\"]\n",
    "x =  tf.keras.utils.pad_sequences(train_data[\"토큰화\"], maxlen = int(max_length))\n",
    "x"
   ]
  },
  {
   "cell_type": "code",
   "execution_count": 130,
   "metadata": {
    "executionInfo": {
     "elapsed": 4,
     "status": "ok",
     "timestamp": 1705977507749,
     "user": {
      "displayName": "ccc flkwerkdai",
      "userId": "13507850890638580947"
     },
     "user_tz": -540
    },
    "id": "ZCNqv7t6IPSK"
   },
   "outputs": [],
   "source": [
    "from sklearn.model_selection import train_test_split\n",
    "\n",
    "x_train, x_val, y_train, y_val = train_test_split(x, y, test_size = 0.3, random_state = 2023)"
   ]
  },
  {
   "cell_type": "markdown",
   "metadata": {
    "id": "px0c0ldnIxxr"
   },
   "source": [
    "## 모델 설계 1. transformer"
   ]
  },
  {
   "cell_type": "code",
   "execution_count": 131,
   "metadata": {
    "executionInfo": {
     "elapsed": 3,
     "status": "ok",
     "timestamp": 1705977507749,
     "user": {
      "displayName": "ccc flkwerkdai",
      "userId": "13507850890638580947"
     },
     "user_tz": -540
    },
    "id": "8-AnL6nSJ9fi"
   },
   "outputs": [],
   "source": [
    "embedding_dim = 100\n",
    "hidden_unit = 128"
   ]
  },
  {
   "cell_type": "code",
   "execution_count": 132,
   "metadata": {
    "executionInfo": {
     "elapsed": 3,
     "status": "ok",
     "timestamp": 1705977507749,
     "user": {
      "displayName": "ccc flkwerkdai",
      "userId": "13507850890638580947"
     },
     "user_tz": -540
    },
    "id": "lrwhMT26IVvy"
   },
   "outputs": [],
   "source": [
    "import tensorflow as tf\n",
    "\n",
    "X = tf.keras.Input(shape=[int(max_length)])\n",
    "\n",
    "H = tf.keras.layers.Embedding(vocab_size, embedding_dim)(X)\n",
    "H = tf.keras.layers.SimpleRNN(hidden_unit, return_sequences=True)(H)\n",
    "\n",
    "# Transformer::self-attentions\n",
    "H1 = tf.keras.layers.MultiHeadAttention(2, 16)(H, H)\n",
    "H = tf.keras.layers.BatchNormalization()(H + H1)\n",
    "\n",
    "# Transformer::feed-forward\n",
    "H1 = tf.keras.layers.Dense(hidden_unit, activation='swish')(H)\n",
    "H = tf.keras.layers.BatchNormalization()(H + H1)\n",
    "\n",
    "H = tf.keras.layers.GlobalAveragePooling1D()(H)\n",
    "Y = tf.keras.layers.Dense(1, activation=\"sigmoid\")(H)\n",
    "\n",
    "model = tf.keras.Model(X, Y)\n",
    "model.compile(loss=\"binary_crossentropy\", metrics=\"accuracy\", optimizer = \"adam\")\n",
    "\n",
    "#model.summary()"
   ]
  },
  {
   "cell_type": "code",
   "execution_count": 133,
   "metadata": {
    "colab": {
     "base_uri": "https://localhost:8080/"
    },
    "executionInfo": {
     "elapsed": 265007,
     "status": "ok",
     "timestamp": 1705977772753,
     "user": {
      "displayName": "ccc flkwerkdai",
      "userId": "13507850890638580947"
     },
     "user_tz": -540
    },
    "id": "-Wn47OSXJrai",
    "outputId": "f28727e5-6b56-4176-9859-07b137075548"
   },
   "outputs": [
    {
     "name": "stdout",
     "output_type": "stream",
     "text": [
      "Epoch 1/10\n",
      "657/657 [==============================] - 50s 70ms/step - loss: 0.4705 - accuracy: 0.7573 - val_loss: 0.4366 - val_accuracy: 0.7862\n",
      "Epoch 2/10\n",
      "657/657 [==============================] - 19s 29ms/step - loss: 0.2612 - accuracy: 0.8791 - val_loss: 0.4595 - val_accuracy: 0.7916\n",
      "Epoch 3/10\n",
      "657/657 [==============================] - 17s 26ms/step - loss: 0.1624 - accuracy: 0.9220 - val_loss: 0.6055 - val_accuracy: 0.7840\n",
      "Epoch 4/10\n",
      "657/657 [==============================] - 19s 28ms/step - loss: 0.1345 - accuracy: 0.9330 - val_loss: 0.6309 - val_accuracy: 0.7764\n",
      "Epoch 5/10\n",
      "657/657 [==============================] - 17s 26ms/step - loss: 0.1213 - accuracy: 0.9384 - val_loss: 0.7449 - val_accuracy: 0.7844\n",
      "Epoch 6/10\n",
      "657/657 [==============================] - 17s 25ms/step - loss: 0.1098 - accuracy: 0.9418 - val_loss: 0.7740 - val_accuracy: 0.7759\n",
      "Epoch 7/10\n",
      "657/657 [==============================] - 19s 28ms/step - loss: 0.1039 - accuracy: 0.9445 - val_loss: 0.9025 - val_accuracy: 0.7746\n",
      "Epoch 8/10\n",
      "657/657 [==============================] - 16s 25ms/step - loss: 0.1011 - accuracy: 0.9445 - val_loss: 0.8709 - val_accuracy: 0.7785\n",
      "Epoch 9/10\n",
      "657/657 [==============================] - 17s 26ms/step - loss: 0.0994 - accuracy: 0.9458 - val_loss: 0.8742 - val_accuracy: 0.7712\n",
      "Epoch 10/10\n",
      "657/657 [==============================] - 18s 27ms/step - loss: 0.0965 - accuracy: 0.9458 - val_loss: 1.0221 - val_accuracy: 0.7752\n"
     ]
    }
   ],
   "source": [
    "h1 = model.fit(x_train, y_train, epochs=10, batch_size=128, validation_split=0.2).history"
   ]
  },
  {
   "cell_type": "code",
   "execution_count": 134,
   "metadata": {
    "colab": {
     "base_uri": "https://localhost:8080/"
    },
    "executionInfo": {
     "elapsed": 10846,
     "status": "ok",
     "timestamp": 1705977821653,
     "user": {
      "displayName": "ccc flkwerkdai",
      "userId": "13507850890638580947"
     },
     "user_tz": -540
    },
    "id": "A23PmoCdM0Uw",
    "outputId": "66c71b42-1ab2-4369-a4c0-eba8fb596574"
   },
   "outputs": [
    {
     "name": "stdout",
     "output_type": "stream",
     "text": [
      "1407/1407 [==============================] - 7s 5ms/step\n"
     ]
    }
   ],
   "source": [
    "pred1 = model.predict(x_val)"
   ]
  },
  {
   "cell_type": "code",
   "execution_count": 136,
   "metadata": {
    "executionInfo": {
     "elapsed": 2,
     "status": "ok",
     "timestamp": 1705977876365,
     "user": {
      "displayName": "ccc flkwerkdai",
      "userId": "13507850890638580947"
     },
     "user_tz": -540
    },
    "id": "d3b0XlkoNFtj"
   },
   "outputs": [],
   "source": [
    "pred1 = np.where(pred1>0.5, 1, 0)"
   ]
  },
  {
   "cell_type": "code",
   "execution_count": 137,
   "metadata": {
    "colab": {
     "base_uri": "https://localhost:8080/"
    },
    "executionInfo": {
     "elapsed": 2,
     "status": "ok",
     "timestamp": 1705977882668,
     "user": {
      "displayName": "ccc flkwerkdai",
      "userId": "13507850890638580947"
     },
     "user_tz": -540
    },
    "id": "rkxDHaCqM4_R",
    "outputId": "11318976-58e3-49d0-aac8-af4aca4ebaa1"
   },
   "outputs": [
    {
     "name": "stdout",
     "output_type": "stream",
     "text": [
      "              precision    recall  f1-score   support\n",
      "\n",
      "           0       0.80      0.74      0.77     22538\n",
      "           1       0.75      0.81      0.78     22461\n",
      "\n",
      "    accuracy                           0.77     44999\n",
      "   macro avg       0.78      0.78      0.77     44999\n",
      "weighted avg       0.78      0.77      0.77     44999\n",
      "\n"
     ]
    }
   ],
   "source": [
    "from sklearn.metrics import *\n",
    "\n",
    "print(classification_report(y_val,pred1))"
   ]
  },
  {
   "cell_type": "markdown",
   "metadata": {
    "id": "izwIkKaYNLJj"
   },
   "source": [
    "## 모델 설계2. lstm"
   ]
  },
  {
   "cell_type": "code",
   "execution_count": 139,
   "metadata": {
    "executionInfo": {
     "elapsed": 609,
     "status": "ok",
     "timestamp": 1705977968007,
     "user": {
      "displayName": "ccc flkwerkdai",
      "userId": "13507850890638580947"
     },
     "user_tz": -540
    },
    "id": "nlrKu1-aNPMB"
   },
   "outputs": [],
   "source": [
    "from tensorflow.keras.layers import *\n",
    "from tensorflow.keras.models import *\n",
    "from tensorflow.keras.callbacks import *\n",
    "\n",
    "embedding_dim = 100\n",
    "hidden_units = 128\n",
    "\n",
    "model = Sequential()\n",
    "model.add(Embedding(vocab_size, embedding_dim))\n",
    "model.add(LSTM(hidden_unit))\n",
    "model.add(Dense(1, activation='sigmoid'))\n",
    "model.compile(loss=\"binary_crossentropy\", metrics=\"accuracy\", optimizer = \"adam\")"
   ]
  },
  {
   "cell_type": "code",
   "execution_count": 140,
   "metadata": {
    "colab": {
     "base_uri": "https://localhost:8080/"
    },
    "executionInfo": {
     "elapsed": 85985,
     "status": "ok",
     "timestamp": 1705978057840,
     "user": {
      "displayName": "ccc flkwerkdai",
      "userId": "13507850890638580947"
     },
     "user_tz": -540
    },
    "id": "Vr0t9LjTNbPa",
    "outputId": "7e2dae46-3ad8-408e-ed2c-5f1123b0d957"
   },
   "outputs": [
    {
     "name": "stdout",
     "output_type": "stream",
     "text": [
      "Epoch 1/10\n",
      "657/657 [==============================] - 29s 37ms/step - loss: 0.4713 - accuracy: 0.7557 - val_loss: 0.4074 - val_accuracy: 0.8027\n",
      "Epoch 2/10\n",
      "657/657 [==============================] - 8s 12ms/step - loss: 0.2892 - accuracy: 0.8663 - val_loss: 0.4457 - val_accuracy: 0.7920\n",
      "Epoch 3/10\n",
      "657/657 [==============================] - 6s 8ms/step - loss: 0.2053 - accuracy: 0.9036 - val_loss: 0.5187 - val_accuracy: 0.7888\n",
      "Epoch 4/10\n",
      "657/657 [==============================] - 6s 9ms/step - loss: 0.1610 - accuracy: 0.9217 - val_loss: 0.6151 - val_accuracy: 0.7874\n",
      "Epoch 5/10\n",
      "657/657 [==============================] - 5s 8ms/step - loss: 0.1340 - accuracy: 0.9317 - val_loss: 0.7061 - val_accuracy: 0.7851\n",
      "Epoch 6/10\n",
      "657/657 [==============================] - 5s 8ms/step - loss: 0.1159 - accuracy: 0.9387 - val_loss: 0.7840 - val_accuracy: 0.7837\n",
      "Epoch 7/10\n",
      "657/657 [==============================] - 6s 8ms/step - loss: 0.1026 - accuracy: 0.9436 - val_loss: 0.8887 - val_accuracy: 0.7798\n",
      "Epoch 8/10\n",
      "657/657 [==============================] - 5s 7ms/step - loss: 0.0951 - accuracy: 0.9469 - val_loss: 1.0325 - val_accuracy: 0.7756\n",
      "Epoch 9/10\n",
      "657/657 [==============================] - 6s 9ms/step - loss: 0.0907 - accuracy: 0.9481 - val_loss: 1.0723 - val_accuracy: 0.7795\n",
      "Epoch 10/10\n",
      "657/657 [==============================] - 5s 8ms/step - loss: 0.0862 - accuracy: 0.9500 - val_loss: 1.1715 - val_accuracy: 0.7783\n"
     ]
    }
   ],
   "source": [
    "h2 = model.fit(x_train, y_train, epochs=10, batch_size=128, validation_split=0.2).history"
   ]
  },
  {
   "cell_type": "code",
   "execution_count": 141,
   "metadata": {
    "colab": {
     "base_uri": "https://localhost:8080/"
    },
    "executionInfo": {
     "elapsed": 6092,
     "status": "ok",
     "timestamp": 1705978239849,
     "user": {
      "displayName": "ccc flkwerkdai",
      "userId": "13507850890638580947"
     },
     "user_tz": -540
    },
    "id": "zfF8NbOfOaZr",
    "outputId": "be5956c4-5e1e-47de-8b13-f3e881a8b568"
   },
   "outputs": [
    {
     "name": "stdout",
     "output_type": "stream",
     "text": [
      "1407/1407 [==============================] - 5s 3ms/step\n"
     ]
    }
   ],
   "source": [
    "pred2 = np.where(model.predict(x_val)>0.5,1,0)"
   ]
  },
  {
   "cell_type": "code",
   "execution_count": 142,
   "metadata": {
    "colab": {
     "base_uri": "https://localhost:8080/"
    },
    "executionInfo": {
     "elapsed": 3,
     "status": "ok",
     "timestamp": 1705978243505,
     "user": {
      "displayName": "ccc flkwerkdai",
      "userId": "13507850890638580947"
     },
     "user_tz": -540
    },
    "id": "63DGd2OwOgNx",
    "outputId": "a995bd03-a68c-423a-9d25-72dd3fcf3f75"
   },
   "outputs": [
    {
     "name": "stdout",
     "output_type": "stream",
     "text": [
      "              precision    recall  f1-score   support\n",
      "\n",
      "           0       0.79      0.75      0.77     22538\n",
      "           1       0.76      0.80      0.78     22461\n",
      "\n",
      "    accuracy                           0.77     44999\n",
      "   macro avg       0.77      0.77      0.77     44999\n",
      "weighted avg       0.77      0.77      0.77     44999\n",
      "\n"
     ]
    }
   ],
   "source": [
    "print(classification_report(y_val,pred2))"
   ]
  },
  {
   "cell_type": "markdown",
   "metadata": {
    "id": "QyHJfDrfOmcz"
   },
   "source": [
    "## summary"
   ]
  },
  {
   "cell_type": "markdown",
   "metadata": {
    "id": "v1yzeLM-On_p"
   },
   "source": [
    "두 모델의 성능차이가 그렇게 크지않음.. 그때그때 선택해서 하면 되겠당"
   ]
  }
 ],
 "metadata": {
  "accelerator": "GPU",
  "colab": {
   "gpuType": "T4",
   "provenance": [],
   "toc_visible": true
  },
  "kernelspec": {
   "display_name": "Python 3 (ipykernel)",
   "language": "python",
   "name": "python3"
  },
  "language_info": {
   "codemirror_mode": {
    "name": "ipython",
    "version": 3
   },
   "file_extension": ".py",
   "mimetype": "text/x-python",
   "name": "python",
   "nbconvert_exporter": "python",
   "pygments_lexer": "ipython3",
   "version": "3.11.4"
  }
 },
 "nbformat": 4,
 "nbformat_minor": 4
}
