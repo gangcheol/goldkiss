{
 "cells": [
  {
   "cell_type": "code",
   "execution_count": null,
   "metadata": {},
   "outputs": [],
   "source": [
    "---\n",
    "title : \"04. 네이버 영화 리뷰 분류\"\n",
    "author : \"gc\"\n",
    "date : \"01/24/23\"\n",
    "categories : [python]\n",
    "---"
   ]
  },
  {
   "cell_type": "markdown",
   "metadata": {
    "id": "D26Y6lQNFSqi"
   },
   "source": [
    "# 데이터 로드"
   ]
  },
  {
   "cell_type": "code",
   "execution_count": 1,
   "metadata": {
    "id": "5Nb213SXFfc7",
    "tags": []
   },
   "outputs": [],
   "source": [
    "import pickle\n",
    "import pandas as pd\n",
    "import numpy as np\n",
    "import matplotlib.pyplot as plt\n",
    "import re\n",
    "import urllib.request\n",
    "from tqdm import tqdm\n",
    "from tensorflow.keras.preprocessing.text import Tokenizer\n",
    "from tensorflow.keras.preprocessing.sequence import pad_sequences"
   ]
  },
  {
   "cell_type": "code",
   "execution_count": 49,
   "metadata": {
    "id": "u6NU8U_XFsYU",
    "tags": []
   },
   "outputs": [],
   "source": [
    "train_data = pd.read_table('ratings_train.txt')\n",
    "test_data = pd.read_table('ratings_test.txt')"
   ]
  },
  {
   "cell_type": "code",
   "execution_count": 50,
   "metadata": {
    "colab": {
     "base_uri": "https://localhost:8080/"
    },
    "id": "si5L_3X8Is_r",
    "outputId": "0e150873-a5cf-4b01-e018-a3b3326cee89",
    "tags": []
   },
   "outputs": [
    {
     "name": "stdout",
     "output_type": "stream",
     "text": [
      "label\n",
      "0    752\n",
      "1    748\n",
      "Name: count, dtype: int64\n",
      "label\n",
      "1    255\n",
      "0    245\n",
      "Name: count, dtype: int64\n"
     ]
    }
   ],
   "source": [
    "print(train_data.sample(n  = 1500).label.value_counts())\n",
    "print(test_data.sample(n = 500).label.value_counts())"
   ]
  },
  {
   "cell_type": "code",
   "execution_count": 51,
   "metadata": {
    "id": "dBsupfKjRlb2",
    "tags": []
   },
   "outputs": [],
   "source": [
    "train_data = train_data.sample(n  = 1500).reset_index(drop = True)\n",
    "test_data = test_data.sample(n = 500).reset_index(drop = True)"
   ]
  },
  {
   "cell_type": "code",
   "execution_count": 52,
   "metadata": {
    "colab": {
     "base_uri": "https://localhost:8080/",
     "height": 206
    },
    "id": "8QNlxmcaKeET",
    "outputId": "021b7bd3-bfba-4b93-b7ff-844f0188fc5b",
    "tags": []
   },
   "outputs": [
    {
     "data": {
      "text/html": [
       "<div>\n",
       "<style scoped>\n",
       "    .dataframe tbody tr th:only-of-type {\n",
       "        vertical-align: middle;\n",
       "    }\n",
       "\n",
       "    .dataframe tbody tr th {\n",
       "        vertical-align: top;\n",
       "    }\n",
       "\n",
       "    .dataframe thead th {\n",
       "        text-align: right;\n",
       "    }\n",
       "</style>\n",
       "<table border=\"1\" class=\"dataframe\">\n",
       "  <thead>\n",
       "    <tr style=\"text-align: right;\">\n",
       "      <th></th>\n",
       "      <th>id</th>\n",
       "      <th>document</th>\n",
       "      <th>label</th>\n",
       "    </tr>\n",
       "  </thead>\n",
       "  <tbody>\n",
       "    <tr>\n",
       "      <th>0</th>\n",
       "      <td>9926134</td>\n",
       "      <td>결말이 너무 허무하다....</td>\n",
       "      <td>0</td>\n",
       "    </tr>\n",
       "    <tr>\n",
       "      <th>1</th>\n",
       "      <td>6001771</td>\n",
       "      <td>뭐라고 해야하지.. 영화가 답답하고 따로노니까 구경꾼 된 느낌</td>\n",
       "      <td>0</td>\n",
       "    </tr>\n",
       "    <tr>\n",
       "      <th>2</th>\n",
       "      <td>8765562</td>\n",
       "      <td>보지않으면 후회합니다 :-)</td>\n",
       "      <td>1</td>\n",
       "    </tr>\n",
       "    <tr>\n",
       "      <th>3</th>\n",
       "      <td>10079684</td>\n",
       "      <td>어떤 내용인지 지금은 기억도 안나지만 10년전 내가 초딩일때 진짜 이거보고 한 며칠...</td>\n",
       "      <td>1</td>\n",
       "    </tr>\n",
       "    <tr>\n",
       "      <th>4</th>\n",
       "      <td>9114000</td>\n",
       "      <td>황진이 탈세 좋아욧 내가하는건 착한 탈세라고욧</td>\n",
       "      <td>0</td>\n",
       "    </tr>\n",
       "  </tbody>\n",
       "</table>\n",
       "</div>"
      ],
      "text/plain": [
       "         id                                           document  label\n",
       "0   9926134                                    결말이 너무 허무하다....      0\n",
       "1   6001771                 뭐라고 해야하지.. 영화가 답답하고 따로노니까 구경꾼 된 느낌      0\n",
       "2   8765562                                    보지않으면 후회합니다 :-)      1\n",
       "3  10079684  어떤 내용인지 지금은 기억도 안나지만 10년전 내가 초딩일때 진짜 이거보고 한 며칠...      1\n",
       "4   9114000                          황진이 탈세 좋아욧 내가하는건 착한 탈세라고욧      0"
      ]
     },
     "execution_count": 52,
     "metadata": {},
     "output_type": "execute_result"
    }
   ],
   "source": [
    "train_data.head()"
   ]
  },
  {
   "cell_type": "markdown",
   "metadata": {
    "id": "T9HahQN-GDqL"
   },
   "source": [
    "# 데이터 전처리"
   ]
  },
  {
   "cell_type": "markdown",
   "metadata": {
    "id": "kjVdskniL0A7"
   },
   "source": [
    "## 1. 특수문자 제거"
   ]
  },
  {
   "cell_type": "code",
   "execution_count": 58,
   "metadata": {
    "tags": []
   },
   "outputs": [],
   "source": [
    "removal_list =  \"‘, ’, ◇, ‘, ”,  ’, ', ·, \\“, ·, △, ●,  , ■, (, ), \\\", >>, `, /, #, ∼, =,ㆍ<,>, .,?, !,【,】, …, ◆,%, ₩\"\n",
    "def remove_special(sentence: str = None):\n",
    "\n",
    "    sentence = re.sub(\"[.,\\'\\\"’‘”“!?]\", \"\", sentence)\n",
    "    sentence = re.sub(\"[^ㄱ-ㅎ가-힣a-zA-Z\\\\s]\", \" \", sentence)\n",
    "    sentence = re.sub(\"\\s+\", \" \", sentence)\n",
    "    sentence = sentence.translate(str.maketrans(removal_list, ' '*len(removal_list)))\n",
    "    sentence = sentence.strip()\n",
    "    sentence = sentence.replace('\\n', ' ')\n",
    "\n",
    "    return sentence"
   ]
  },
  {
   "cell_type": "code",
   "execution_count": 59,
   "metadata": {
    "tags": []
   },
   "outputs": [
    {
     "data": {
      "text/plain": [
       "0                         결말이 너무 허무하다\n",
       "1    뭐라고 해야하지 영화가 답답하고 따로노니까 구경꾼 된 느낌\n",
       "2                         보지않으면 후회합니다\n",
       "Name: 특수문자제거, dtype: object"
      ]
     },
     "execution_count": 59,
     "metadata": {},
     "output_type": "execute_result"
    }
   ],
   "source": [
    "train_data[\"특수문자제거\"] = [remove_special(i) for i in train_data[\"document\"]]"
   ]
  },
  {
   "cell_type": "markdown",
   "metadata": {},
   "source": [
    "## 2. 단어 분리"
   ]
  },
  {
   "cell_type": "code",
   "execution_count": 61,
   "metadata": {
    "tags": []
   },
   "outputs": [
    {
     "name": "stdout",
     "output_type": "stream",
     "text": [
      "0                              [결말이, 너무, 허무하다]\n",
      "1    [뭐라고, 해야하지, 영화가, 답답하고, 따로노니까, 구경꾼, 된, 느낌]\n",
      "Name: 단어분리, dtype: object\n"
     ]
    }
   ],
   "source": [
    "train_data[\"단어분리\"]= [i.split() for i in train_data[\"특수문자제거\"]]\n",
    "print(train_data[\"단어분리\"][:2])"
   ]
  },
  {
   "cell_type": "markdown",
   "metadata": {},
   "source": [
    "## 3. 불용어제거"
   ]
  },
  {
   "cell_type": "code",
   "execution_count": 62,
   "metadata": {
    "tags": []
   },
   "outputs": [],
   "source": [
    "def remove_stopword(sent):\n",
    "    stopwords = ['의','가','이','은','들','는','좀','잘','걍','과','도','를','을','으로','자','에','와','한','이', '로', '에서', '하는', '하면', '하고', '요', '혹시', '합니다', '감사합니다', '안녕하세요']\n",
    "    removed = [word for word in sent if not word in stopwords] # 불용어 제거\n",
    "    return removed"
   ]
  },
  {
   "cell_type": "code",
   "execution_count": 63,
   "metadata": {
    "tags": []
   },
   "outputs": [
    {
     "data": {
      "text/plain": [
       "0                                      [결말이, 너무, 허무하다]\n",
       "1            [뭐라고, 해야하지, 영화가, 답답하고, 따로노니까, 구경꾼, 된, 느낌]\n",
       "2                                       [보지않으면, 후회합니다]\n",
       "3    [어떤, 내용인지, 지금은, 기억도, 안나지만, 년전, 내가, 초딩일때, 진짜, 이...\n",
       "4                     [황진이, 탈세, 좋아욧, 내가하는건, 착한, 탈세라고욧]\n",
       "Name: 불용어제거, dtype: object"
      ]
     },
     "execution_count": 63,
     "metadata": {},
     "output_type": "execute_result"
    }
   ],
   "source": [
    "train_data[\"불용어제거\"] = [remove_stopword(i) for i in train_data[\"단어분리\"]]\n",
    "train_data[\"불용어제거\"].head()"
   ]
  },
  {
   "cell_type": "markdown",
   "metadata": {},
   "source": [
    "## 4. 한글자 단어 제거"
   ]
  },
  {
   "cell_type": "code",
   "execution_count": 64,
   "metadata": {
    "tags": []
   },
   "outputs": [
    {
     "data": {
      "text/plain": [
       "0                                      [결말이, 너무, 허무하다]\n",
       "1               [뭐라고, 해야하지, 영화가, 답답하고, 따로노니까, 구경꾼, 느낌]\n",
       "2                                       [보지않으면, 후회합니다]\n",
       "3    [어떤, 내용인지, 지금은, 기억도, 안나지만, 년전, 내가, 초딩일때, 진짜, 이...\n",
       "4                     [황진이, 탈세, 좋아욧, 내가하는건, 착한, 탈세라고욧]\n",
       "Name: 한글자제거, dtype: object"
      ]
     },
     "execution_count": 64,
     "metadata": {},
     "output_type": "execute_result"
    }
   ],
   "source": [
    "train_data[\"한글자제거\"] = [[j for j in i if len(j) >=2 ] for i in train_data[\"불용어제거\"]]\n",
    "train_data[\"한글자제거\"][:5]"
   ]
  },
  {
   "cell_type": "markdown",
   "metadata": {},
   "source": [
    "## 5. 문장 단어 개수 측정"
   ]
  },
  {
   "cell_type": "code",
   "execution_count": 67,
   "metadata": {
    "tags": []
   },
   "outputs": [],
   "source": [
    "cleansing_length =[len(i) for i in train_data[\"한글자제거\"]]\n",
    "train_data[\"cleansing_length\"] = cleansing_length"
   ]
  },
  {
   "cell_type": "code",
   "execution_count": 69,
   "metadata": {
    "tags": []
   },
   "outputs": [
    {
     "data": {
      "text/plain": [
       "count    1500.000000\n",
       "mean        6.940000\n",
       "std         6.013139\n",
       "min         0.000000\n",
       "25%         3.000000\n",
       "50%         5.000000\n",
       "75%         8.000000\n",
       "max        33.000000\n",
       "Name: cleansing_length, dtype: float64"
      ]
     },
     "execution_count": 69,
     "metadata": {},
     "output_type": "execute_result"
    }
   ],
   "source": [
    "train_data.cleansing_length.describe()"
   ]
  },
  {
   "cell_type": "markdown",
   "metadata": {},
   "source": [
    "`-` 패딩을 위해 상한선 설정"
   ]
  },
  {
   "cell_type": "code",
   "execution_count": null,
   "metadata": {},
   "outputs": [],
   "source": [
    "max_length = train_df.cleansing_length.quantile(.9)\n",
    "max_length"
   ]
  },
  {
   "cell_type": "markdown",
   "metadata": {},
   "source": [
    "# 단어사전 만들기"
   ]
  },
  {
   "cell_type": "markdown",
   "metadata": {},
   "source": [
    "## 단어 모으기"
   ]
  },
  {
   "cell_type": "code",
   "execution_count": 71,
   "metadata": {
    "tags": []
   },
   "outputs": [
    {
     "data": {
      "text/plain": [
       "['결말이', '너무', '허무하다', '뭐라고', '해야하지']"
      ]
     },
     "execution_count": 71,
     "metadata": {},
     "output_type": "execute_result"
    }
   ],
   "source": [
    "word_list  = [j for i in train_data[\"한글자제거\"] for j in i]\n",
    "word_list[:5]"
   ]
  },
  {
   "cell_type": "markdown",
   "metadata": {
    "tags": []
   },
   "source": [
    "## 전체 단어 빈도 수"
   ]
  },
  {
   "cell_type": "code",
   "execution_count": 73,
   "metadata": {
    "tags": []
   },
   "outputs": [],
   "source": [
    "import collections\n",
    "\n",
    "word_count = collections.Counter(word_list)\n",
    "# word_count.most_common()"
   ]
  },
  {
   "cell_type": "markdown",
   "metadata": {},
   "source": [
    "## 전체 단어 빈도수 및 합계 확인하기"
   ]
  },
  {
   "cell_type": "code",
   "execution_count": 74,
   "metadata": {
    "tags": []
   },
   "outputs": [
    {
     "data": {
      "text/plain": [
       "(7125, 10410)"
      ]
     },
     "execution_count": 74,
     "metadata": {},
     "output_type": "execute_result"
    }
   ],
   "source": [
    "word_frequency = word_count.values()\n",
    "total_word = len(set(word_list))\n",
    "total_frequency_sum = sum(word_count.values())\n",
    "\n",
    "total_word, total_frequency_sum"
   ]
  },
  {
   "cell_type": "markdown",
   "metadata": {},
   "source": [
    "## 회귀 단어 빈도수 및 합계 확인하기"
   ]
  },
  {
   "cell_type": "code",
   "execution_count": 76,
   "metadata": {
    "tags": []
   },
   "outputs": [
    {
     "data": {
      "text/plain": [
       "(6063, 6063)"
      ]
     },
     "execution_count": 76,
     "metadata": {},
     "output_type": "execute_result"
    }
   ],
   "source": [
    "rare_frequency = { i : j  for i,j in word_count.items() if j ==1}\n",
    "rare_count = len(rare_frequency)\n",
    "rare_frequency_sum = sum(rare_frequency.values())\n",
    "\n",
    "rare_count, rare_frequency_sum"
   ]
  },
  {
   "cell_type": "code",
   "execution_count": 77,
   "metadata": {
    "tags": []
   },
   "outputs": [
    {
     "name": "stdout",
     "output_type": "stream",
     "text": [
      "클렌징 데이터의 전체 단어 수:  7125\n",
      "데이터 내 전체 희귀 단어수:  6063\n",
      "\n",
      "\n",
      "데이터의 전체 단어의 빈도 수 합:  10410\n",
      "데이터 내 전체 희귀 단어의 빈도 수 합:  6063\n",
      "전체 단어에서 희귀 단어가 차지하는 비율:  0.5824207492795389\n"
     ]
    }
   ],
   "source": [
    "rare_count_percent = rare_count/total_word\n",
    "rare_frequency_percent = rare_frequency_sum/total_frequency_sum\n",
    "\n",
    "\n",
    "print(\"클렌징 데이터의 전체 단어 수: \", total_word)\n",
    "print(\"데이터 내 전체 희귀 단어수: \",  rare_count)\n",
    "print(\"\\n\")\n",
    "print(\"데이터의 전체 단어의 빈도 수 합: \",  total_frequency_sum )\n",
    "print(\"데이터 내 전체 희귀 단어의 빈도 수 합: \",   rare_frequency_sum)\n",
    "print(\"전체 단어에서 희귀 단어가 차지하는 비율: \",  rare_frequency_percent)"
   ]
  },
  {
   "cell_type": "markdown",
   "metadata": {},
   "source": [
    "## 단어사전 크기 정하기"
   ]
  },
  {
   "cell_type": "code",
   "execution_count": 78,
   "metadata": {
    "tags": []
   },
   "outputs": [
    {
     "data": {
      "text/plain": [
       "1062"
      ]
     },
     "execution_count": 78,
     "metadata": {},
     "output_type": "execute_result"
    }
   ],
   "source": [
    "vocab_size = total_word-rare_count\n",
    "vocab_size"
   ]
  },
  {
   "cell_type": "markdown",
   "metadata": {},
   "source": [
    "## 단어사전 인덱스 생성(토큰화)"
   ]
  },
  {
   "cell_type": "code",
   "execution_count": 83,
   "metadata": {
    "tags": []
   },
   "outputs": [
    {
     "data": {
      "text/html": [
       "<div>\n",
       "<style scoped>\n",
       "    .dataframe tbody tr th:only-of-type {\n",
       "        vertical-align: middle;\n",
       "    }\n",
       "\n",
       "    .dataframe tbody tr th {\n",
       "        vertical-align: top;\n",
       "    }\n",
       "\n",
       "    .dataframe thead th {\n",
       "        text-align: right;\n",
       "    }\n",
       "</style>\n",
       "<table border=\"1\" class=\"dataframe\">\n",
       "  <thead>\n",
       "    <tr style=\"text-align: right;\">\n",
       "      <th></th>\n",
       "      <th>id</th>\n",
       "      <th>document</th>\n",
       "      <th>label</th>\n",
       "      <th>특수문자제거</th>\n",
       "      <th>단어분리</th>\n",
       "      <th>불용어제거</th>\n",
       "      <th>한글자제거</th>\n",
       "      <th>cleansing_length</th>\n",
       "      <th>토큰화</th>\n",
       "    </tr>\n",
       "  </thead>\n",
       "  <tbody>\n",
       "    <tr>\n",
       "      <th>0</th>\n",
       "      <td>9926134</td>\n",
       "      <td>결말이 너무 허무하다....</td>\n",
       "      <td>0</td>\n",
       "      <td>결말이 너무 허무하다</td>\n",
       "      <td>[결말이, 너무, 허무하다]</td>\n",
       "      <td>[결말이, 너무, 허무하다]</td>\n",
       "      <td>[결말이, 너무, 허무하다]</td>\n",
       "      <td>3</td>\n",
       "      <td>[301, 2]</td>\n",
       "    </tr>\n",
       "    <tr>\n",
       "      <th>1</th>\n",
       "      <td>6001771</td>\n",
       "      <td>뭐라고 해야하지.. 영화가 답답하고 따로노니까 구경꾼 된 느낌</td>\n",
       "      <td>0</td>\n",
       "      <td>뭐라고 해야하지 영화가 답답하고 따로노니까 구경꾼 된 느낌</td>\n",
       "      <td>[뭐라고, 해야하지, 영화가, 답답하고, 따로노니까, 구경꾼, 된, 느낌]</td>\n",
       "      <td>[뭐라고, 해야하지, 영화가, 답답하고, 따로노니까, 구경꾼, 된, 느낌]</td>\n",
       "      <td>[뭐라고, 해야하지, 영화가, 답답하고, 따로노니까, 구경꾼, 느낌]</td>\n",
       "      <td>7</td>\n",
       "      <td>[12, 514, 149]</td>\n",
       "    </tr>\n",
       "    <tr>\n",
       "      <th>2</th>\n",
       "      <td>8765562</td>\n",
       "      <td>보지않으면 후회합니다 :-)</td>\n",
       "      <td>1</td>\n",
       "      <td>보지않으면 후회합니다</td>\n",
       "      <td>[보지않으면, 후회합니다]</td>\n",
       "      <td>[보지않으면, 후회합니다]</td>\n",
       "      <td>[보지않으면, 후회합니다]</td>\n",
       "      <td>2</td>\n",
       "      <td>[515]</td>\n",
       "    </tr>\n",
       "    <tr>\n",
       "      <th>3</th>\n",
       "      <td>10079684</td>\n",
       "      <td>어떤 내용인지 지금은 기억도 안나지만 10년전 내가 초딩일때 진짜 이거보고 한 며칠...</td>\n",
       "      <td>1</td>\n",
       "      <td>어떤 내용인지 지금은 기억도 안나지만 년전 내가 초딩일때 진짜 이거보고 한 며칠간 ...</td>\n",
       "      <td>[어떤, 내용인지, 지금은, 기억도, 안나지만, 년전, 내가, 초딩일때, 진짜, 이...</td>\n",
       "      <td>[어떤, 내용인지, 지금은, 기억도, 안나지만, 년전, 내가, 초딩일때, 진짜, 이...</td>\n",
       "      <td>[어떤, 내용인지, 지금은, 기억도, 안나지만, 년전, 내가, 초딩일때, 진짜, 이...</td>\n",
       "      <td>23</td>\n",
       "      <td>[150, 302, 303, 13, 4, 516, 151, 207, 208, 4]</td>\n",
       "    </tr>\n",
       "    <tr>\n",
       "      <th>4</th>\n",
       "      <td>9114000</td>\n",
       "      <td>황진이 탈세 좋아욧 내가하는건 착한 탈세라고욧</td>\n",
       "      <td>0</td>\n",
       "      <td>황진이 탈세 좋아욧 내가하는건 착한 탈세라고욧</td>\n",
       "      <td>[황진이, 탈세, 좋아욧, 내가하는건, 착한, 탈세라고욧]</td>\n",
       "      <td>[황진이, 탈세, 좋아욧, 내가하는건, 착한, 탈세라고욧]</td>\n",
       "      <td>[황진이, 탈세, 좋아욧, 내가하는건, 착한, 탈세라고욧]</td>\n",
       "      <td>6</td>\n",
       "      <td>[]</td>\n",
       "    </tr>\n",
       "  </tbody>\n",
       "</table>\n",
       "</div>"
      ],
      "text/plain": [
       "         id                                           document  label  \\\n",
       "0   9926134                                    결말이 너무 허무하다....      0   \n",
       "1   6001771                 뭐라고 해야하지.. 영화가 답답하고 따로노니까 구경꾼 된 느낌      0   \n",
       "2   8765562                                    보지않으면 후회합니다 :-)      1   \n",
       "3  10079684  어떤 내용인지 지금은 기억도 안나지만 10년전 내가 초딩일때 진짜 이거보고 한 며칠...      1   \n",
       "4   9114000                          황진이 탈세 좋아욧 내가하는건 착한 탈세라고욧      0   \n",
       "\n",
       "                                              특수문자제거  \\\n",
       "0                                        결말이 너무 허무하다   \n",
       "1                   뭐라고 해야하지 영화가 답답하고 따로노니까 구경꾼 된 느낌   \n",
       "2                                        보지않으면 후회합니다   \n",
       "3  어떤 내용인지 지금은 기억도 안나지만 년전 내가 초딩일때 진짜 이거보고 한 며칠간 ...   \n",
       "4                          황진이 탈세 좋아욧 내가하는건 착한 탈세라고욧   \n",
       "\n",
       "                                                단어분리  \\\n",
       "0                                    [결말이, 너무, 허무하다]   \n",
       "1          [뭐라고, 해야하지, 영화가, 답답하고, 따로노니까, 구경꾼, 된, 느낌]   \n",
       "2                                     [보지않으면, 후회합니다]   \n",
       "3  [어떤, 내용인지, 지금은, 기억도, 안나지만, 년전, 내가, 초딩일때, 진짜, 이...   \n",
       "4                   [황진이, 탈세, 좋아욧, 내가하는건, 착한, 탈세라고욧]   \n",
       "\n",
       "                                               불용어제거  \\\n",
       "0                                    [결말이, 너무, 허무하다]   \n",
       "1          [뭐라고, 해야하지, 영화가, 답답하고, 따로노니까, 구경꾼, 된, 느낌]   \n",
       "2                                     [보지않으면, 후회합니다]   \n",
       "3  [어떤, 내용인지, 지금은, 기억도, 안나지만, 년전, 내가, 초딩일때, 진짜, 이...   \n",
       "4                   [황진이, 탈세, 좋아욧, 내가하는건, 착한, 탈세라고욧]   \n",
       "\n",
       "                                               한글자제거  cleansing_length  \\\n",
       "0                                    [결말이, 너무, 허무하다]                 3   \n",
       "1             [뭐라고, 해야하지, 영화가, 답답하고, 따로노니까, 구경꾼, 느낌]                 7   \n",
       "2                                     [보지않으면, 후회합니다]                 2   \n",
       "3  [어떤, 내용인지, 지금은, 기억도, 안나지만, 년전, 내가, 초딩일때, 진짜, 이...                23   \n",
       "4                   [황진이, 탈세, 좋아욧, 내가하는건, 착한, 탈세라고욧]                 6   \n",
       "\n",
       "                                             토큰화  \n",
       "0                                       [301, 2]  \n",
       "1                                 [12, 514, 149]  \n",
       "2                                          [515]  \n",
       "3  [150, 302, 303, 13, 4, 516, 151, 207, 208, 4]  \n",
       "4                                             []  "
      ]
     },
     "execution_count": 83,
     "metadata": {},
     "output_type": "execute_result"
    }
   ],
   "source": [
    "tokenizer = Tokenizer(num_words = vocab_size)\n",
    "tokenizer.fit_on_texts(train_data[\"한글자제거\"])\n",
    "\n",
    "train_data[\"토큰화\"] = tokenizer.texts_to_sequences(train_data[\"한글자제거\"])\n",
    "train_data.head()"
   ]
  },
  {
   "cell_type": "markdown",
   "metadata": {},
   "source": [
    "# 모델 생성"
   ]
  },
  {
   "cell_type": "code",
   "execution_count": null,
   "metadata": {},
   "outputs": [],
   "source": [
    "y_train = train_data[\"label\"]\n",
    "x_train = x_data = tf.keras.utils.pad_sequences(train_df[\"토큰화\"], maxlen = int(max_length))\n",
    "x_data  "
   ]
  }
 ],
 "metadata": {
  "colab": {
   "provenance": [],
   "toc_visible": true
  },
  "kernelspec": {
   "display_name": "Python 3 (ipykernel)",
   "language": "python",
   "name": "python3"
  },
  "language_info": {
   "codemirror_mode": {
    "name": "ipython",
    "version": 3
   },
   "file_extension": ".py",
   "mimetype": "text/x-python",
   "name": "python",
   "nbconvert_exporter": "python",
   "pygments_lexer": "ipython3",
   "version": "3.11.4"
  }
 },
 "nbformat": 4,
 "nbformat_minor": 4
}
